{
 "cells": [
  {
   "cell_type": "markdown",
   "id": "a68559e1-e081-4346-80c4-e211b7ea1676",
   "metadata": {
    "tags": []
   },
   "source": [
    "# M5のディスプレイ制御を試してみよう\n",
    "\n",
    "ここでは、AKARIでM5のディスプレイを制御するサンプルを動かしながら、プログラムの書き方を説明します。"
   ]
  },
  {
   "cell_type": "markdown",
   "id": "b7fd0305-5d6a-4313-9b81-22e060c6f761",
   "metadata": {
    "tags": []
   },
   "source": [
    "## 1. ライブラリのインポートとインスタンスの作成\n",
    "まずは、M5との通信に使うakari_clientライブラリのインポートをして、AkariClientのインスタンスを作成します。  \n",
    "この作業を行うことで、モータ制御のための関数を使うことができるようになります。  \n",
    "importするのは、AkariClientというライブラリです。これは、下記のコマンドでインポートできます。  \n",
    " ```python\n",
    " # AkariClientのインポート\n",
    " from akari_client import AkariClient\n",
    " ```  \n",
    "更に、ディスプレイ制御では、位置を指定する際に使う _Positions_ と、色を指定する際に使う _Color_ , _Colors_クラスもインポートする必要があります。\n",
    " ```python\n",
    " # 位置を指定する際に使うPositionsのインポート\n",
    "from akari_client.position import Positions\n",
    " # 色を指定する際に使うColors,Colorのインポート\n",
    "from akari_client.color import Colors, Color\n",
    " ```\n",
    "また、このライブラリを用いて、AkariClientのインスタンスと、m5stackのインスタンスを取得する必要があります。  \n",
    " ```python\n",
    " # AkariClient、m5stackのインスタンスを取得する\n",
    " akari = AkariClient()  \n",
    " m5 = akari.m5stack\n",
    " ```\n",
    "\n",
    "まだpythonに詳しくない方は、とりあえず **M5のディスプレイ制御をしたい場合はこのコマンドを実行する必要がある** と覚えておけばOKです。  \n",
    "次のウインドウを実行して、ライブラリのインポートとインスタンスの作成を行っておきましょう"
   ]
  },
  {
   "cell_type": "code",
   "execution_count": 3,
   "id": "8f48197b-7279-4516-9d87-35ed7a5c0891",
   "metadata": {},
   "outputs": [],
   "source": [
    "# M5との通信の際はakari_clientのライブラリをインポートする\n",
    "from akari_client import AkariClient\n",
    " # 位置を指定する際に使うPositionsのインポート\n",
    "from akari_client.position import Positions\n",
    " # 色を指定する際に使うColors,Colorのインポート\n",
    "from akari_client.color import Colors, Color\n",
    "\n",
    "# AkariClient、m5stackのインスタンスを取得する\n",
    "akari = AkariClient()\n",
    "m5 = akari.m5stack"
   ]
  },
  {
   "cell_type": "markdown",
   "id": "5c8f8866-6e11-4287-8ff8-2aa9dee1d2a1",
   "metadata": {
    "tags": []
   },
   "source": [
    "## 2. ディスプレイの色を変更してみよう\n",
    "まずはM5のディスプレイの背景色を変更してみましょう。  \n",
    "背景色を変更するには、_set_display_color()_ を使います。\n",
    "```python\n",
    "akari_client.m5stack_client.set_display_color(\n",
    "        self,\n",
    "        color: Color,\n",
    "        sync: bool = True,\n",
    "    ) -> None:\n",
    "\"\"\"ボディー部M5のディスプレイ背景色を変更する。\n",
    "\n",
    "Args:\n",
    "    color: 背景色を指定。色は``color.Colors``から色名を引用する、もしくはRGBの数値指定も可能。\n",
    "    sync: 同期実行の指定。``True``の場合M5側で実行完了するまで関数の終了待ちを行う。\n",
    "\n",
    "\"\"\"\n",
    "```\n",
    "また、色はRGB値を指定する方法と、Colorsクラスから色名を指定する方法の両方を使うことができます。"
   ]
  },
  {
   "cell_type": "code",
   "execution_count": 13,
   "id": "7345e564-90f0-4f10-9ce3-c24c3d44b70a",
   "metadata": {},
   "outputs": [],
   "source": [
    "# 背景色を赤色にする。\n",
    "m5.set_display_color(Colors.RED)"
   ]
  },
  {
   "cell_type": "code",
   "execution_count": 4,
   "id": "d586d152-cf3d-49d2-8b4e-df6496f3c725",
   "metadata": {},
   "outputs": [],
   "source": [
    "# 背景色を(R=50,G=155,B=10)にする。\n",
    "m5.set_display_color(Color(red=50,green=155,blue=10))"
   ]
  },
  {
   "cell_type": "markdown",
   "id": "676d8f18-0d9e-4cf3-908b-b18ba3f58e1b",
   "metadata": {
    "tags": []
   },
   "source": [
    "### 練習問題1\n",
    "背景色を赤、青、黄の順に変更しましょう。それぞれ _Colors.RED_ , _Colors.BLUE_, _Colors.YELLOW_ で色指定できます。"
   ]
  },
  {
   "cell_type": "code",
   "execution_count": 27,
   "id": "e991dc99-bb99-4ace-9fb8-f63a96ccac51",
   "metadata": {
    "tags": []
   },
   "outputs": [],
   "source": [
    "import time\n",
    "# 背景色を赤にする処理を書く\n",
    "\n",
    "time.sleep(1)\n",
    "# 背景色を青にする処理を書く\n",
    "\n",
    "time.sleep(1)\n",
    "# 背景色を黃にする処理を書く\n",
    "\n",
    "time.sleep(1)\n"
   ]
  },
  {
   "cell_type": "markdown",
   "id": "d84fcfed-7132-4761-b830-717ec0607cc4",
   "metadata": {
    "jp-MarkdownHeadingCollapsed": true,
    "tags": []
   },
   "source": [
    "#### 答え"
   ]
  },
  {
   "cell_type": "code",
   "execution_count": null,
   "id": "218154a1-ed7c-4cff-b4ce-cbea49be4751",
   "metadata": {
    "tags": []
   },
   "outputs": [],
   "source": [
    "import time\n",
    "# 背景色を赤にする処理を書く\n",
    "m5.set_display_color(Colors.RED,sync=True)\n",
    "time.sleep(1)\n",
    "# 背景色を青にする処理を書く\n",
    "m5.set_display_color(Colors.BLUE,sync=True)\n",
    "time.sleep(1)\n",
    "# 背景色を黃にする処理を書く\n",
    "m5.set_display_color(Colors.YELLOW,sync=True)\n",
    "time.sleep(1)"
   ]
  },
  {
   "cell_type": "markdown",
   "id": "15005dc1-8cf8-49c5-a364-6ea818f923e4",
   "metadata": {
    "tags": []
   },
   "source": [
    "## 3. ディスプレイに文字を表示してみよう\n",
    "次にM5のディスプレイに文字を表示してみましょう。\n",
    "文字を表示するには、_set_display_text()_ を使います。\n",
    "\n",
    "```python\n",
    "akari_client.m5stack_client.set_display_text(\n",
    "    self,\n",
    "    text: str,\n",
    "    pos_x: int = Positions.CENTER,\n",
    "    pos_y: int = Positions.CENTER,\n",
    "    size: int = 3,\n",
    "    text_color: Optional[Color] = None,\n",
    "    back_color: Optional[Color] = None,\n",
    "    refresh: bool = True,\n",
    "    sync: bool = True,\n",
    ") -> None:\n",
    "\"\"\"ボディー部M5のディスプレイに文字を表示する。\n",
    "\n",
    "Args:\n",
    "    text: 表示する文字列。\n",
    "    pos_x: x方向の描画位置ピクセルを0-320で指定。左端が0。 ``position.Positions`` を用いた位置指定も可能。デフォルト値は中央揃え。\n",
    "    pos_y: y方向の描画位置ピクセルを0-240で指定。上端が0。 ``position.Positions`` を用いた位置指定も可能。デフォルト値は中央揃え。\n",
    "    size: 文字サイズを1-7の7段階で指定。デフォルト値は3。\n",
    "    text_color: 文字色を指定。色は ``color.Colors`` から色名を引用する、もしくはRGBの数値指定も可能。値を指定しない場合、前回値を引き継ぐ。\n",
    "    back_color: 背景色を指定。色は ``color.Colors`` から色名を引用する、もしくはRGBの数値指定も可能。値を指定しない場合、画面全体の背景色に合わせる。\n",
    "    refresh: trueの場合画面全体を元の背景色で更新する。falseの場合は現在の表示を維持しつつ、文字を描画する範囲のみ更新する。デフォルト値は背景更新あり。\n",
    "    sync: 同期実行の指定。Trueの場合M5側で実行完了するまで関数の終了待ちを行う。\n",
    "\n",
    "\"\"\"\n",
    "\n",
    "```\n",
    "\n",
    "下記にディスプレイに文字を表示するサンプルを記載します。"
   ]
  },
  {
   "cell_type": "code",
   "execution_count": 3,
   "id": "35793e47-adb0-4de6-a6bc-f465b6115780",
   "metadata": {
    "tags": []
   },
   "outputs": [],
   "source": [
    "# AKARIと表示する\n",
    "m5.set_display_text(\"AKARI\")"
   ]
  },
  {
   "cell_type": "markdown",
   "id": "77515b67-739e-4783-a085-7cbbd00c9311",
   "metadata": {
    "jp-MarkdownHeadingCollapsed": true,
    "tags": []
   },
   "source": [
    "pos_x,pos_yに数値を入れることで表示位置を変更できます。"
   ]
  },
  {
   "cell_type": "code",
   "execution_count": 9,
   "id": "1bc0366c-3280-486b-b901-85456b3745d6",
   "metadata": {
    "tags": []
   },
   "outputs": [],
   "source": [
    "# x=120,y=150に表示する\n",
    "m5.set_display_text(text=\"AKARI\",pos_x=120,pos_y=150)"
   ]
  },
  {
   "cell_type": "markdown",
   "id": "4eb93212-5c8f-4e31-bb51-4004af2eca16",
   "metadata": {
    "jp-MarkdownHeadingCollapsed": true,
    "tags": []
   },
   "source": [
    "pos_x,pos_yには `Positions` による位置指定も使えます。  \n",
    "pos_xには`LEFT`, `CENTER`, `RIGHT`、pos_yには`TOP`, `CENTER`, `BOTTOM`が使えます。"
   ]
  },
  {
   "cell_type": "code",
   "execution_count": 13,
   "id": "3e7418c7-e6ff-4139-8df6-97cffbf0153b",
   "metadata": {
    "tags": []
   },
   "outputs": [],
   "source": [
    "# 右下に表示する\n",
    "m5.set_display_text(text=\"AKARI\",pos_x=Positions.RIGHT,pos_y=Positions.BOTTOM)"
   ]
  },
  {
   "cell_type": "markdown",
   "id": "0cd0fe6e-78c3-48ae-b246-06333faebb6a",
   "metadata": {
    "jp-MarkdownHeadingCollapsed": true,
    "tags": []
   },
   "source": [
    "sizeに数値を入れることで文字サイズを変更できます。"
   ]
  },
  {
   "cell_type": "code",
   "execution_count": 14,
   "id": "51f664af-2b5b-4e1e-89b5-1d1246a2e532",
   "metadata": {
    "tags": []
   },
   "outputs": [],
   "source": [
    "# sizeを5にする\n",
    "m5.set_display_text(text=\"AKARI\",size=5)"
   ]
  },
  {
   "cell_type": "markdown",
   "id": "b0ab5b04-156f-4da9-a61d-14425e237f57",
   "metadata": {
    "jp-MarkdownHeadingCollapsed": true,
    "tags": []
   },
   "source": [
    "text_color,back_colorを指定することで文字色と文字の背景色を変更できます。  \n",
    "色はset_display_colorと同様RGB値を指定する方法と、Colorsクラスから色名を指定する方法の両方を使うことができます。"
   ]
  },
  {
   "cell_type": "code",
   "execution_count": 16,
   "id": "ede6a2a9-9202-4bfc-8419-868b94d9f356",
   "metadata": {
    "tags": []
   },
   "outputs": [],
   "source": [
    "# 文字の色を赤、背景の色を黒にする\n",
    "m5.set_display_text(text=\"AKARI\",text_color=Colors.RED,back_color=Colors.BLACK)"
   ]
  },
  {
   "cell_type": "code",
   "execution_count": 27,
   "id": "dbc14cdd-ab5b-4d06-9e8c-93552c48ffef",
   "metadata": {
    "tags": []
   },
   "outputs": [],
   "source": [
    "# 文字の色を(red=10,green=155,blue=10)、背景の色を(red=0,green=100,blue=200)にする\n",
    "m5.set_display_text(text=\"AKARI\",text_color=Color(red=10,green=155,blue=10),back_color=Color(red=0,green=100,blue=200))"
   ]
  },
  {
   "cell_type": "markdown",
   "id": "5a056bfb-06ed-4317-8723-d83ae19a5cfb",
   "metadata": {
    "jp-MarkdownHeadingCollapsed": true,
    "tags": []
   },
   "source": [
    "refreshをTrueにするとset_display_textをする前に画面全体を現在の背景色で更新します。defaultはTrueです。  \n",
    "Falseにすると前回の表示を残したまま文字を描画することができます。"
   ]
  },
  {
   "cell_type": "code",
   "execution_count": 42,
   "id": "beb927de-1c3d-408a-af6c-0cd155a7ee12",
   "metadata": {
    "tags": []
   },
   "outputs": [],
   "source": [
    "# x=40,y=50に表示する\n",
    "m5.set_display_text(text=\"AKARI\",pos_x=40,pos_y=50)\n",
    "# 一つ前の表示を残したまま、x=80,y=100に表示する\n",
    "m5.set_display_text(text=\"AKARI\",pos_x=80,pos_y=100,refresh=False)\n",
    "# 一つ前の表示を残したまま、x=120,y=150に表示する\n",
    "m5.set_display_text(text=\"AKARI\",pos_x=120,pos_y=150,refresh=False)"
   ]
  },
  {
   "cell_type": "markdown",
   "id": "3f3b7e6a-4f89-47ef-9e2d-1e22bb6ffe10",
   "metadata": {
    "tags": []
   },
   "source": [
    "### 練習問題2\n",
    "下記3つの文字を並べて画面に表示してみましょう。**並べて表示するので、一つ前の描画は消さずに次の文字を描画する必要があります。**  \n",
    "あか: 文字サイズ3, pos_xは中央揃え、pos_yは上揃え,文字の色は赤  \n",
    "あお: 文字サイズ3, pos_xは中央揃え、pos_yは中央揃え,文字の色は青  \n",
    "きいろ: 文字サイズ3, pos_xは中央揃え、pos_yは下揃え,文字の色は黃"
   ]
  },
  {
   "cell_type": "markdown",
   "id": "19c3be34-d650-403e-b3a0-3b4d8b2deeb6",
   "metadata": {
    "jp-MarkdownHeadingCollapsed": true,
    "tags": []
   },
   "source": [
    "#### 答え"
   ]
  },
  {
   "cell_type": "code",
   "execution_count": 46,
   "id": "ee6b0f3e-0e0a-4e20-a5be-09a014a97402",
   "metadata": {
    "tags": []
   },
   "outputs": [],
   "source": [
    "# あかを表示\n",
    "m5.set_display_text(text=\"あか\",pos_x=Positions.CENTER,pos_y=Positions.TOP,size=3,text_color=Colors.RED)\n",
    "# あおを表示\n",
    "m5.set_display_text(text=\"あお\",pos_x=Positions.CENTER,pos_y=Positions.CENTER,size=3,text_color=Colors.BLUE,refresh=False)\n",
    "# きいろを表示\n",
    "m5.set_display_text(text=\"きいろ\",pos_x=Positions.CENTER,pos_y=Positions.BOTTOM,size=3,text_color=Colors.YELLOW,refresh=False)"
   ]
  },
  {
   "cell_type": "markdown",
   "id": "ef52214a-07c2-409b-b7f2-2d402874b10a",
   "metadata": {
    "tags": []
   },
   "source": [
    "## 4. ディスプレイに画像を表示してみよう\n",
    "次にM5のディスプレイにSDカード内の画像を表示してみましょう。\n",
    "画像を表示するには、_set_display_image()_ を使います。\n",
    "\n",
    "```python\n",
    "akari_client.m5stack_client.set_display_image(\n",
    "    self,\n",
    "    filepath: str,\n",
    "    pos_x: int = Positions.CENTER,\n",
    "    pos_y: int = Positions.CENTER,\n",
    "    scale: float = -1.0,\n",
    "    sync: bool = True,\n",
    ") -> None:\n",
    "\"\"\"ボディー部M5のディスプレイにM5のSDカード内の画像を表示する。\n",
    "\n",
    "Args:\n",
    "    filepath: M5のSDカード内のファイルパス。(例;\"image/hoge.jpg\")\n",
    "    pos_x: x方向の描画位置ピクセルを0-320で指定。左端が0。 ``position.Positions`` を用いた位置指定も可能。デフォルト値は中央揃え。\n",
    "    pos_y: y方向の描画位置ピクセルを0-240で指定。上端が0。 ``position.Positions`` を用いた位置指定も可能。デフォルト値は中央揃え。\n",
    "    scale: 画像の拡大縮小倍率を指定。1.0で等倍表示。マイナスの値を入れた場合、画面サイズに合わせて自動でサイズ調整される。\n",
    "            デフォルト値は自動サイズ調整となっている。\n",
    "    sync: 同期実行の指定。Trueの場合M5側で実行完了するまで関数の終了待ちを行う。\n",
    "\n",
    "\"\"\"\n",
    "\n",
    "```\n",
    "\n",
    "下記にディスプレイに画像を表示するサンプルを記載します。"
   ]
  },
  {
   "cell_type": "code",
   "execution_count": 5,
   "id": "19279c6d",
   "metadata": {},
   "outputs": [],
   "source": [
    "# \"/logo320_ex.jpg\"を表示する\n",
    "m5.set_display_image(\"/logo320_ex.jpg\")"
   ]
  },
  {
   "cell_type": "markdown",
   "id": "a56db7db",
   "metadata": {},
   "source": [
    "scaleを指定することで、表示倍率を変更できます。"
   ]
  },
  {
   "cell_type": "code",
   "execution_count": 6,
   "id": "b1ca94e1",
   "metadata": {},
   "outputs": [],
   "source": [
    "# \"/logo320_ex.jpg\"をscale 0.4倍で表示する\n",
    "m5.set_display_image(filepath=\"/logo320_ex.jpg\",scale=0.4)"
   ]
  },
  {
   "cell_type": "markdown",
   "id": "a56db7db",
   "metadata": {},
   "source": [
    "pos_x, pos_yを指定することで、表示位置を変更できます。\n",
    "また、こちらも `Positions` による位置指定も使えます。  "
   ]
  },
  {
   "cell_type": "code",
   "execution_count": 9,
   "id": "10cc2cef",
   "metadata": {},
   "outputs": [],
   "source": [
    "# \"/logo320_ex.jpg\"をscale 0.4倍で右下揃えで表示する\n",
    "m5.set_display_image(filepath=\"/logo320_ex.jpg\",scale=0.4,pos_x=Positions.RIGHT,pos_y=Positions.BOTTOM)"
   ]
  },
  {
   "cell_type": "markdown",
   "id": "3f3b7e6a-4f89-47ef-9e2d-1e22bb6ffe10",
   "metadata": {
    "tags": []
   },
   "source": [
    "### 練習問題3\n",
    "\"/logo320.jpg\"を左上、真中中央、右下の各場所にscale0.3で表示してみましょう。"
   ]
  },
  {
   "cell_type": "markdown",
   "id": "19c3be34-d650-403e-b3a0-3b4d8b2deeb6",
   "metadata": {
    "jp-MarkdownHeadingCollapsed": true,
    "tags": []
   },
   "source": [
    "#### 答え"
   ]
  },
  {
   "cell_type": "code",
   "execution_count": 10,
   "id": "ee6b0f3e-0e0a-4e20-a5be-09a014a97402",
   "metadata": {
    "tags": []
   },
   "outputs": [],
   "source": [
    "# 左上に表示\n",
    "m5.set_display_image(filepath=\"/logo320.jpg\",scale=0.3,pos_x=Positions.LEFT,pos_y=Positions.TOP)\n",
    "# 真中中央に表示\n",
    "m5.set_display_image(filepath=\"/logo320.jpg\",scale=0.3,pos_x=Positions.CENTER,pos_y=Positions.CENTER)\n",
    "# 右下に表示\n",
    "m5.set_display_image(filepath=\"/logo320.jpg\",scale=0.3,pos_x=Positions.RIGHT,pos_y=Positions.BOTTOM)"
   ]
  },
  {
   "cell_type": "markdown",
   "id": "92739636-aced-4091-adc9-2c41cdaeb70b",
   "metadata": {
    "jp-MarkdownHeadingCollapsed": true,
    "tags": []
   },
   "source": [
    "#### 答え"
   ]
  },
  {
   "cell_type": "code",
   "execution_count": null,
   "id": "e4300f11-3f28-40e1-aa0a-2ef3ee054f1c",
   "metadata": {
    "tags": []
   },
   "outputs": [],
   "source": [
    "import time\n",
    "# 10回繰り返す処理\n",
    "for i in range(0,10):\n",
    "    # din0の値がFalseの場合、というif文を書いて、その場合のみ\"din0がLoです。\"とprintする処理を書く。\n",
    "    data = m5.get()\n",
    "    if not data[\"din0\"]:\n",
    "        print(\"din0がLoです。\")    \n",
    "    # 1秒待つ\n",
    "    time.sleep(1)\n",
    "print(\"終わります。\")"
   ]
  },
  {
   "cell_type": "markdown",
   "id": "f206748d-67a6-4001-8afc-58ac3876d98e",
   "metadata": {
    "tags": []
   },
   "source": [
    "## 4. GPIOピンの出力をしてみよう。\n",
    "次にM5のヘッドのGPIOピンの出力をしてみましょう。  \n",
    "AKARIで出力できるGPIOには、デジタル出力(dout)とPWM出力(pwmout)があります。  \n",
    "デジタル出力の制御には、 _set_dout()_ を使います。\n",
    "```python\n",
    "akari_client.m5stack_client.set_dout(self, pin_id: int, value: bool, sync: bool = True) -> None:\n",
    "\"\"\"ヘッド部GPIOピンのデジタル出力を設定する。\n",
    "\n",
    "Args:\n",
    "    pin_id: pin番号。0でdout0、1でdout1を指定する。\n",
    "    value: デジタル出力の値。``False``で0V,``True``で3.3V出力。\n",
    "    sync: 同期実行の指定。``True``の場合M5側で実行完了するまで関数の終了待ちを行う。\n",
    "\n",
    "\"\"\"\n",
    "```\n",
    "\n",
    "下記にdout0をHi、dout1をLoにするサンプルを記載します。\n",
    "テスト用ヘッドモジュールをAKARIに接続している場合は、dout0のLEDが点灯します。"
   ]
  },
  {
   "cell_type": "code",
   "execution_count": null,
   "id": "743e9bca-f2c0-42ba-8bc0-0757a01dd46d",
   "metadata": {
    "tags": []
   },
   "outputs": [],
   "source": [
    "# dout0をHi\n",
    "m5.set_dout(pin_id=0,value=True)\n",
    "# dout1をLo\n",
    "m5.set_dout(pin_id=1,value=False)"
   ]
  },
  {
   "cell_type": "markdown",
   "id": "216e9bc5-7483-44b5-8417-b30911faaaf4",
   "metadata": {
    "tags": []
   },
   "source": [
    "PWM出力の制御には、 _set_pwmout()_ を使います。\n",
    "```python\n",
    "akari_client.m5stack_client.set_pwmout(self, pin_id: int, value: int, sync: bool = True) -> None:\n",
    "\"\"\"ヘッド部GPIOピンのPWM出力を設定する。\n",
    "\n",
    "Args:\n",
    "    pin_id: pin番号。デフォルトではpwmout0しかないため、0を指定すること。\n",
    "    value: PWM出力の値。 0-255で指定し、0で0V、255で3.3Vを出力する。\n",
    "    sync: 同期実行の指定。``True``の場合M5側で実行完了するまで関数の終了待ちを行う。\n",
    "\"\"\"\n",
    "```\n",
    "\n",
    "下記にpwmout0を255にするサンプルを記載します。\n",
    "テスト用ヘッドモジュールをAKARIに接続している場合は、pwmout0のLEDが点灯します。"
   ]
  },
  {
   "cell_type": "code",
   "execution_count": null,
   "id": "49c5c8a3-ea70-4700-972f-5a646083c0a5",
   "metadata": {
    "tags": []
   },
   "outputs": [],
   "source": [
    "# pwmout0を255に\n",
    "m5.set_pwmout(pin_id=0,value=255)"
   ]
  },
  {
   "cell_type": "markdown",
   "id": "0aabf1e8-6e31-4209-a9c0-5b3e9cbf3dc3",
   "metadata": {
    "tags": []
   },
   "source": [
    "また、 _set_allout()_ を使うことで、3ピン同時に制御することもできます。\n",
    "```python\n",
    "akari_client.m5stack_client.set_allout(\n",
    "        self,\n",
    "        *,\n",
    "        dout0: bool,\n",
    "        dout1: bool,\n",
    "        pwmout0: int,\n",
    "        sync: bool = True,\n",
    "    ) -> None:\n",
    "\"\"\"ヘッド部GPIOピンの出力をまとめて設定する。\n",
    "\n",
    "Args:\n",
    "    dout0: dout0の出力値。``False``で0V,``True``で3.3V出力。\n",
    "    dout1: dout1の出力値。``False``で0V,``True``で3.3V出力。\n",
    "    pwmout0: pwmout0の出力値。0-255で指定し、0で0V、255で3.3Vを出力する。\n",
    "    sync: 同期実行の指定。``True``の場合M5側で実行完了するまで関数の終了待ちを行う。\n",
    "\n",
    "\"\"\"\n",
    "```\n",
    "\n",
    "下記にdout0をLo,dout1をHi,pwmout0を200にするサンプルを記載します。"
   ]
  },
  {
   "cell_type": "code",
   "execution_count": null,
   "id": "d56a9144-0dce-4393-b1b0-894918a0b0d1",
   "metadata": {
    "tags": []
   },
   "outputs": [],
   "source": [
    "# pwmout0を255に\n",
    "m5.set_allout(dout0=False,dout1=True,pwmout0=200)"
   ]
  },
  {
   "cell_type": "markdown",
   "id": "f2f11235-4e9c-41d5-bd5e-2ba5b5dad796",
   "metadata": {
    "tags": []
   },
   "source": [
    "### 練習問題3\n",
    "dout0,dout1を1秒ずつ順番にHiにする処理を3回ずつ繰り返す処理を書いてみましょう。"
   ]
  },
  {
   "cell_type": "code",
   "execution_count": null,
   "id": "b42c8b05-e39c-460a-895c-3f2bfca29ee7",
   "metadata": {
    "tags": []
   },
   "outputs": [],
   "source": [
    "import time\n",
    "# 3回繰り返す処理\n",
    "for i in range(0,3):\n",
    "    # dout0をHi,dout1をLoにする処理を書く。\n",
    "\n",
    "    # 1秒待つ\n",
    "    time.sleep(1)\n",
    "    # dout0をLo,dout1をhiにする処理を書く。\n",
    "\n",
    "    # 1秒待つ\n",
    "    time.sleep(1)\n",
    "\n",
    "print(\"終わります。\")"
   ]
  },
  {
   "cell_type": "markdown",
   "id": "50f2c51b-80e1-48d8-ad3d-f0e958445200",
   "metadata": {
    "jp-MarkdownHeadingCollapsed": true,
    "tags": []
   },
   "source": [
    "#### 答え"
   ]
  },
  {
   "cell_type": "code",
   "execution_count": null,
   "id": "2fea8894-9a53-431e-a8ac-18313771bb98",
   "metadata": {
    "tags": []
   },
   "outputs": [],
   "source": [
    "import time\n",
    "# 3回繰り返す処理\n",
    "for i in range(0,3):\n",
    "    # dout0をHi,dout1をLoにする処理を書く。\n",
    "    set_dout(pin_id=0, value=True)\n",
    "    set_dout(pin_id=1, value=False)\n",
    "    # 1秒待つ\n",
    "    time.sleep(1)\n",
    "    # dout0をLo,dout1をhiにする処理を書く。\n",
    "    set_dout(pin_id=0, value=False)\n",
    "    set_dout(pin_id=1, value=True)\n",
    "    # 1秒待つ\n",
    "    time.sleep(1)\n",
    "\n",
    "print(\"終わります。\")"
   ]
  },
  {
   "cell_type": "markdown",
   "id": "af833aed-d1d3-4d6f-9c6f-897ee873d3ed",
   "metadata": {
    "tags": []
   },
   "source": [
    "## 5. GPIOピンの出力を確認しよう。\n",
    "4.でセットしたGPIOピンの出力は _get()_ を使い取得することができます。 GPIOの出力を取得する場合に用いる要素は\"dout0\", \"dout1\", \"pwmout0\"です。\n",
    "```python\n",
    "\"\"\"\n",
    "dout0: ヘッドのdout0ピンのデジタル出力。TrueでHi(3.3V)、FalseでLo(0V)。\n",
    "dout1: ヘッドのdout1ピンのデジタル出力。TrueでHi(3.3V)、FalseでLo(0V)。\n",
    "pwmout0: ヘッドのpwmout0ピンのPWM出力。0-255の256段階で0-3.3Vを出力可能。\n",
    "\"\"\"\n",
    "```\n",
    "\n",
    "下記にdout0, dout1, pwmout0の状態を取得するサンプルを記述します。"
   ]
  },
  {
   "cell_type": "code",
   "execution_count": null,
   "id": "56929522-31b6-45b1-81d9-20a8703823af",
   "metadata": {
    "tags": []
   },
   "outputs": [],
   "source": [
    "# M5から情報を取得し、dout0, dout1, pwmout0の状態をprintする。\n",
    "data = m5.get()\n",
    "print(\"dout0は\" + str(data[\"dout0\"]) + \", dout1は\" + str(data[\"dout1\"]) + \", pwmout0は\" + str(data[\"pwmout0\"]) + \"です。\") "
   ]
  },
  {
   "cell_type": "markdown",
   "id": "184b91b5-399b-4948-bf93-7927448ca951",
   "metadata": {
    "tags": []
   },
   "source": [
    "### 練習問題4\n",
    "練習問題3に、dout0,dout1の現在値を取得し、printする処理を追加してみましょう。"
   ]
  },
  {
   "cell_type": "code",
   "execution_count": null,
   "id": "c0a86c86-e33b-496c-b26e-fcb999055e44",
   "metadata": {
    "tags": []
   },
   "outputs": [],
   "source": [
    "import time\n",
    "# 3回繰り返す処理\n",
    "for i in range(0,3):\n",
    "    # dout0をHi,dout1をLoにする。\n",
    "    set_dout(pin_id=0, value=True)\n",
    "    set_dout(pin_id=1, value=False)\n",
    "    # dout0,dout1の現在状態を取得し、printする処理を書く。\n",
    "    \n",
    "    # 1秒待つ\n",
    "    time.sleep(1)\n",
    "    # dout0をLo,dout1をhiにする。\n",
    "    set_dout(pin_id=0, value=False)\n",
    "    set_dout(pin_id=1, value=True)\n",
    "    # dout0,dout1の現在状態を取得し、printする処理を書く。\n",
    "    \n",
    "    # 1秒待つ\n",
    "    time.sleep(1)\n",
    "\n",
    "print(\"終わります。\")"
   ]
  },
  {
   "cell_type": "markdown",
   "id": "595d67fd-81f2-46bb-902e-5a7e3c76bc90",
   "metadata": {
    "jp-MarkdownHeadingCollapsed": true,
    "tags": []
   },
   "source": [
    "#### 答え"
   ]
  },
  {
   "cell_type": "code",
   "execution_count": null,
   "id": "0128fd35-3bc4-44cb-a100-b8410277b75c",
   "metadata": {
    "tags": []
   },
   "outputs": [],
   "source": [
    "import time\n",
    "# 3回繰り返す処理\n",
    "for i in range(0,3):\n",
    "    # dout0をHi,dout1をLoにする。\n",
    "    set_dout(pin_id=0, value=True)\n",
    "    set_dout(pin_id=1, value=False)\n",
    "    # dout0,dout1の現在状態を取得し、printする処理を書く。\n",
    "    data = m5.get()\n",
    "    print(\"dout0は\" + str(data[\"dout0\"]) + \", dout1は\" + str(data[\"dout1\"]) + \"です。\") \n",
    "    # 1秒待つ\n",
    "    time.sleep(1)\n",
    "    # dout0をLo,dout1をhiにする。\n",
    "    set_dout(pin_id=0, value=False)\n",
    "    set_dout(pin_id=1, value=True)\n",
    "    # dout0,dout1の現在状態を取得し、printする処理を書く。\n",
    "    data = m5.get()\n",
    "    print(\"dout0は\" + str(data[\"dout0\"]) + \", dout1は\" + str(data[\"dout1\"]) + \"です。\")\n",
    "    # 1秒待つ\n",
    "    time.sleep(1)\n",
    "\n",
    "print(\"終わります。\")"
   ]
  },
  {
   "cell_type": "markdown",
   "id": "49d7d7b9-43e9-4b71-bc42-a7ac98eb9495",
   "metadata": {
    "tags": []
   },
   "source": [
    "## 6. 環境センサの計測値を確認しよう。\n",
    "環境線センサの計測した温度、気圧、明るさも _get()_ を使い取得することができます。 温度は\"temperature\", 気圧は\"pressure\", 明るさは\"brightness\"の各要素から取得することができます。\n",
    "```python\n",
    "\"\"\"\n",
    "temperature: AKARI側面の環境センサモジュールの温度計測値。単位は℃。  \n",
    "pressure: AKARI側面の環境センサモジュールの観測絶対圧力。単位はPa。  \n",
    "brightness: AKARI側面の光センサユニットの観測明るさを4096段階で出力。0が最も明るい。  \n",
    "\"\"\"\n",
    "```\n",
    "下記に温度、気圧、明るさの状態を取得するサンプルを記述します。"
   ]
  },
  {
   "cell_type": "code",
   "execution_count": null,
   "id": "cc61a82f-78d3-4db6-8ff5-98b12f020452",
   "metadata": {
    "tags": []
   },
   "outputs": [],
   "source": [
    "# M5から情報を取得し、dout0, dout1, pwmout0の状態をprintする。\n",
    "data = m5.get()\n",
    "print(\"温度は\" + str(data[\"temperature\"]) + \"℃, 気圧は\" + str(data[\"pressure\"]) + \"Pa, 明るさは\" + str(data[\"brightness\"]) + \"です。\") "
   ]
  },
  {
   "cell_type": "markdown",
   "id": "a24a89c7-6d5b-4d5f-8163-024239ed944b",
   "metadata": {
    "tags": []
   },
   "source": [
    "### 練習問題5\n",
    "明るさが3500以上になったら\"暗いです!\"と表示してみましょう(明るさ値は暗いほど高くなります)。  \n",
    "AKARIのボディー側面の光センサユニットを指で覆うと明るさの値が高くなります。"
   ]
  },
  {
   "cell_type": "code",
   "execution_count": null,
   "id": "bdbae811-93ed-47b7-995f-80436c3f9694",
   "metadata": {
    "tags": []
   },
   "outputs": [],
   "source": [
    "import time\n",
    "# 10回繰り返す処理\n",
    "for i in range(0,10):\n",
    "    # m5からセンサを取得する処理を書く\n",
    "    \n",
    "    # 明るさが3500以上だった場合\"暗いです！\"と表示する処理を、if文を用いて書く\n",
    "    \n",
    "    # 1秒待つ\n",
    "    time.sleep(1)\n",
    "print(\"終わります。\")"
   ]
  },
  {
   "cell_type": "markdown",
   "id": "7c4fdebe-f915-413f-89f7-0b9c4b793d71",
   "metadata": {
    "jp-MarkdownHeadingCollapsed": true,
    "tags": []
   },
   "source": [
    "#### 答え"
   ]
  },
  {
   "cell_type": "code",
   "execution_count": null,
   "id": "66d7b885-b941-4451-a1f5-19f2495787fb",
   "metadata": {
    "tags": []
   },
   "outputs": [],
   "source": [
    "import time\n",
    "# 10回繰り返す処理\n",
    "for i in range(0,10):\n",
    "    # m5からセンサを取得する処理を書く\n",
    "    data = m5.get()\n",
    "    # 明るさが3500以上だった場合\"暗いです！\"と表示する処理を、if文を用いて書く\n",
    "    if(data[\"brightness\"]>=3500):\n",
    "        print(\"暗いです！\")\n",
    "    # 1秒待つ\n",
    "    time.sleep(1)\n",
    "print(\"終わります。\")"
   ]
  },
  {
   "cell_type": "markdown",
   "id": "452f7599-b27d-4f5a-bc69-12cfd8c33469",
   "metadata": {
    "tags": []
   },
   "source": [
    "## 最後に\n",
    "以上でM5との通信のチュートリアルは終わりです。  \n",
    "その他にもいくつかのAPIがあります。詳しくは[SDKリファレンス](https://akari-docs.vbcpp.net/source/sdk_reference/akari_client/joint.html#)を参照ください。  \n",
    "次はM5のディスプレイ制御について説明します。"
   ]
  },
  {
   "cell_type": "code",
   "execution_count": null,
   "id": "1f19eba7-b687-4aac-87a2-0404c50209be",
   "metadata": {},
   "outputs": [],
   "source": []
  }
 ],
 "metadata": {
  "kernelspec": {
   "display_name": "Python 3.8.15 64-bit",
   "language": "python",
   "name": "python3"
  },
  "language_info": {
   "codemirror_mode": {
    "name": "ipython",
    "version": 3
   },
   "file_extension": ".py",
   "mimetype": "text/x-python",
   "name": "python",
   "nbconvert_exporter": "python",
   "pygments_lexer": "ipython3",
   "version": "3.8.15"
  },
  "vscode": {
   "interpreter": {
    "hash": "949777d72b0d2535278d3dc13498b2535136f6dfe0678499012e853ee9abcab1"
   }
  }
 },
 "nbformat": 4,
 "nbformat_minor": 5
}
