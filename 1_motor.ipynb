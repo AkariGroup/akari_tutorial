{
 "cells": [
  {
   "cell_type": "markdown",
   "id": "a68559e1-e081-4346-80c4-e211b7ea1676",
   "metadata": {
    "tags": []
   },
   "source": [
    "# モータ制御を試してみよう\n",
    "\n",
    "ここでは、AKARIでモータ制御をするサンプルを動かしながら、プログラムの書き方を説明します。"
   ]
  },
  {
   "cell_type": "markdown",
   "id": "b7fd0305-5d6a-4313-9b81-22e060c6f761",
   "metadata": {},
   "source": [
    "## 1. ライブラリのインポートとインスタンスの作成\n",
    "まずは、モータ制御に使うakari_clientライブラリのインポートをして、AkariClientのインスタンスを作成します。  \n",
    "この作業を行うことで、モータ制御のための関数を使うことができるようになります。  \n",
    "importするのは、AkariClientというライブラリです。これは、下記のコマンドでインポートできます。  \n",
    " ```python\n",
    " #AkariClientのインポート\n",
    " from akari_client import AkariClient\n",
    " ```  \n",
    "また、このライブラリを用いて、AkariClientのインスタンスと、関節制御用のインスタンスを取得する必要があります。  \n",
    " ```python\n",
    " #AkariClient、jointsのインスタンスを取得\n",
    " akari = AkariClient()  \n",
    " joints = akari.joints\n",
    " ```\n",
    "まだpythonに詳しくない方は、とりあえず **モータを動かしたい場合はこのコマンドを実行する必要がある** と覚えておけばOKです。\n",
    "次のウインドウを実行して、ライブラリのインポートとインスタンスの作成を行っておきましょう。\n",
    "また、ここではあらかじめサーボの速度を5rad/sに変更しておきます。これについては、後ほど使い方を説明します。"
   ]
  },
  {
   "cell_type": "code",
   "execution_count": 5,
   "id": "8f48197b-7279-4516-9d87-35ed7a5c0891",
   "metadata": {},
   "outputs": [
    {
     "ename": "ModuleNotFoundError",
     "evalue": "No module named 'akari_client'",
     "output_type": "error",
     "traceback": [
      "\u001b[1;31m---------------------------------------------------------------------------\u001b[0m",
      "\u001b[1;31mModuleNotFoundError\u001b[0m                       Traceback (most recent call last)",
      "\u001b[1;32m<ipython-input-5-dc40da933e2f>\u001b[0m in \u001b[0;36m<module>\u001b[1;34m\u001b[0m\n\u001b[0;32m      1\u001b[0m \u001b[1;31m# モータ制御の際はakari_clientのライブラリをインポートする\u001b[0m\u001b[1;33m\u001b[0m\u001b[1;33m\u001b[0m\u001b[1;33m\u001b[0m\u001b[0m\n\u001b[1;32m----> 2\u001b[1;33m \u001b[1;32mfrom\u001b[0m \u001b[0makari_client\u001b[0m \u001b[1;32mimport\u001b[0m \u001b[0mAkariClient\u001b[0m\u001b[1;33m\u001b[0m\u001b[1;33m\u001b[0m\u001b[0m\n\u001b[0m\u001b[0;32m      3\u001b[0m \u001b[1;33m\u001b[0m\u001b[0m\n\u001b[0;32m      4\u001b[0m \u001b[1;31m# AkariClientのインスタンスを作成する。\u001b[0m\u001b[1;33m\u001b[0m\u001b[1;33m\u001b[0m\u001b[1;33m\u001b[0m\u001b[0m\n\u001b[0;32m      5\u001b[0m \u001b[0makari\u001b[0m \u001b[1;33m=\u001b[0m \u001b[0mAkariClient\u001b[0m\u001b[1;33m(\u001b[0m\u001b[1;33m)\u001b[0m\u001b[1;33m\u001b[0m\u001b[1;33m\u001b[0m\u001b[0m\n",
      "\u001b[1;31mModuleNotFoundError\u001b[0m: No module named 'akari_client'"
     ]
    }
   ],
   "source": [
    "# モータ制御の際はakari_clientのライブラリをインポートする\n",
    "from akari_client import AkariClient\n",
    "\n",
    "# AkariClientのインスタンスを作成する。\n",
    "akari = AkariClient()\n",
    "# 関節制御用のインスタンスを取得する。\n",
    "joints = akari.joints\n",
    "\n",
    "# サーボの速度を5rad/sに変更(後ほど説明)\n",
    "joints.set_joint_velocities(pan=5,tilt=5)"
   ]
  },
  {
   "cell_type": "markdown",
   "id": "5c8f8866-6e11-4287-8ff8-2aa9dee1d2a1",
   "metadata": {
    "tags": []
   },
   "source": [
    "## 2. サーボのON、OFFをしてみよう\n",
    "まずはヘッドのサーボモータのON、OFFをしてみましょう。\n",
    "サーボのON,OFFには、_set_servo_enabled()_ を使います。\n",
    "```python\n",
    "    AkaliClient::JointManager::set_servo_enabled(  \n",
    "        pan: Optional[bool] = None,  \n",
    "        tilt: Optional[bool] = None,\n",
    "    ) -> None:\n",
    "```\n",
    "> サーボのON,OFFを設定する。pan,tiltの軸ごとにTrueならサーボON、FalseならサーボOFFとなる。\n",
    "\n",
    "下記のセルを実行すると、panのサーボがOFF、tilt(上下方向)のサーボがONになります。  \n",
    "外から手でAKARIのヘッドを押してみると、左右には手で動かせ、上下はロックされているのがわかると思います。"
   ]
  },
  {
   "cell_type": "code",
   "execution_count": null,
   "id": "7345e564-90f0-4f10-9ce3-c24c3d44b70a",
   "metadata": {},
   "outputs": [],
   "source": [
    "#panのサーボをOFF、tiltのサーボをONにする。\n",
    "joints.set_servo_enabled(pan=False, tilt=True)"
   ]
  },
  {
   "cell_type": "markdown",
   "id": "676d8f18-0d9e-4cf3-908b-b18ba3f58e1b",
   "metadata": {
    "tags": []
   },
   "source": [
    "### 練習問題1\n",
    "上記の状態から、panのサーボだけをONにしてみましょう。  \n",
    "Tiltは現在の状態をそのまま維持させましょう。"
   ]
  },
  {
   "cell_type": "code",
   "execution_count": null,
   "id": "e991dc99-bb99-4ace-9fb8-f63a96ccac51",
   "metadata": {},
   "outputs": [],
   "source": [
    "#ここに答えを記述\n"
   ]
  },
  {
   "cell_type": "markdown",
   "id": "d84fcfed-7132-4761-b830-717ec0607cc4",
   "metadata": {
    "jp-MarkdownHeadingCollapsed": true,
    "tags": []
   },
   "source": [
    "#### 答え"
   ]
  },
  {
   "cell_type": "code",
   "execution_count": null,
   "id": "218154a1-ed7c-4cff-b4ce-cbea49be4751",
   "metadata": {},
   "outputs": [],
   "source": [
    "# panのサーボのみONにする。\n",
    "# pan,tiltの指定は一方のみでも可能\n",
    "joints.set_servo_enabled(pan=True)"
   ]
  },
  {
   "cell_type": "markdown",
   "id": "898c39c2-81a9-4c1b-a719-1b7f38b65fc3",
   "metadata": {
    "tags": []
   },
   "source": [
    "## 3. サーボを動かそう\n",
    "次にヘッドのサーボを動かしてみましょう。  \n",
    "ヘッドを動かすには、_move_joint_positions()_　を使います。  \n",
    "```python\n",
    "    AkaliClient::JointManager::move_joint_positions(\n",
    "        pan: Optional[float] = None,\n",
    "        tilt: Optional[float] = None\n",
    "    ) -> None:\n",
    "```\n",
    "> サーボの移動する角度を指定して移動する。単位は[rad]\n",
    "\n",
    "下記のセルを実行すると、panのサーボが0.3rad、tiltのサーボが0.5radの方向を向きます。  "
   ]
  },
  {
   "cell_type": "code",
   "execution_count": null,
   "id": "cd3b4658-789d-4f70-9547-54a025f40eaa",
   "metadata": {},
   "outputs": [],
   "source": [
    "#pan、tiltのサーボをONにする。\n",
    "joints.set_servo_enabled(pan=True, tilt=True)\n",
    "#panのサーボを0.3rad、tiltのサーボを0.5rad移動する。\n",
    "joints.move_joint_positions(pan=0.3, tilt=0.5)"
   ]
  },
  {
   "cell_type": "code",
   "execution_count": null,
   "id": "74ebd5f5",
   "metadata": {},
   "outputs": [],
   "source": [
    "from IPython.display import Video\n",
    "Video('mv_motor1.MOV', width=300)"
   ]
  },
  {
   "attachments": {},
   "cell_type": "markdown",
   "id": "435fe617-ecd4-4d8a-9672-abbe927cb419",
   "metadata": {},
   "source": [
    "初期位置に戻すには、下記のセルのように両方0radを指定すればOKです。"
   ]
  },
  {
   "cell_type": "code",
   "execution_count": 3,
   "id": "7c6188c1-bfa9-4f5e-a0ae-410d53070dd9",
   "metadata": {},
   "outputs": [],
   "source": [
    "#pan、tiltのサーボを0radに移動する。\n",
    "joints.move_joint_positions(pan=0, tilt=0)"
   ]
  },
  {
   "cell_type": "markdown",
   "id": "9f09c883-091f-4260-99eb-301033ba04b6",
   "metadata": {
    "tags": []
   },
   "source": [
    "### 練習問題2\n",
    "tiltを0.3rad下に向かせる→2秒待つ→tiltを0.3rad上に向かせる、というおじぎモーションを作ってみましょう。  \n",
    "2秒待つ部分はすでにtime.sleepを使って書いてあるので、下を向く行と上を向く行を書けばOKです。"
   ]
  },
  {
   "cell_type": "code",
   "execution_count": 40,
   "id": "3b17d7c8-22bd-40bb-ac4c-4bdad8ea16f9",
   "metadata": {},
   "outputs": [],
   "source": [
    "import time\n",
    "# panを0rad、tiltを0.2radにしておく\n",
    "joints.move_joint_positions(pan=0, tilt=0.2)\n",
    "# 1秒待つ\n",
    "time.sleep(1)\n",
    "##### 以下問題 ####\n",
    "# tiltを0.3rad下にするコードを以下に記述\n",
    "\n",
    "# 2秒待つ\n",
    "time.sleep(2)\n",
    "# tiltを0.3rad上にするコードを以下に記述\n"
   ]
  },
  {
   "cell_type": "markdown",
   "id": "bf39df76-2df5-44fd-b99c-c654c922782b",
   "metadata": {
    "jp-MarkdownHeadingCollapsed": true,
    "tags": []
   },
   "source": [
    "#### 答え"
   ]
  },
  {
   "cell_type": "code",
   "execution_count": 47,
   "id": "35793e47-adb0-4de6-a6bc-f465b6115780",
   "metadata": {},
   "outputs": [],
   "source": [
    "import time\n",
    "# panを0rad、tiltを0.2radにしておく\n",
    "joints.move_joint_positions(pan=0, tilt=0.2)\n",
    "# 1秒待つ\n",
    "time.sleep(1)\n",
    "##### 以下問題 ####\n",
    "# tiltを0.3rad下にするコードを以下に記述\n",
    "joints.move_joint_positions(tilt=-0.3)\n",
    "# 2秒待つ\n",
    "time.sleep(2)\n",
    "# tiltを0.3rad上にするコードを以下に記述\n",
    "joints.move_joint_positions(tilt=0.3)"
   ]
  },
  {
   "cell_type": "markdown",
   "id": "79e693c6-a03f-4e0b-ac34-5fee1e5bf02e",
   "metadata": {
    "tags": []
   },
   "source": [
    "## 4. サーボの速度、加速度を変更しよう\n",
    "次にヘッドのサーボの目標動作速度、加速度を変更してみましょう。  \n",
    "速度を変更するには、_set_joint_velocities()_　を使います。  \n",
    "```python\n",
    "    AkaliClient::JointManager::set_joint_velocities(\n",
    "        pan: Optional[float] = None,\n",
    "        tilt: Optional[float] = None\n",
    "    ) -> None:\n",
    "```\n",
    "> サーボの速度を指定する。単位は[rad/s]  \n",
    "\n",
    "この関数を先に呼んでから　_move_joint_positions()_　を実行すると、指定した速度で動くようになります。  \n",
    "下記のセルを実行すると、8rad/sで動いた後に、3rad/sで初期位置に戻ります。速度の変化が分かると思います。"
   ]
  },
  {
   "cell_type": "code",
   "execution_count": 17,
   "id": "1aa934e3-49b6-4f09-ab2a-43a1194b9ed1",
   "metadata": {},
   "outputs": [],
   "source": [
    "import time\n",
    "\n",
    "#pan、tiltのサーボをONにする。\n",
    "joints.set_servo_enabled(pan=True, tilt=True)\n",
    "#初期位置に戻す。\n",
    "joints.move_joint_positions(pan=0, tilt=0)\n",
    "# 1秒待つ\n",
    "time.sleep(1)\n",
    "\n",
    "# サーボの速度を8rad/sに変更\n",
    "joints.set_joint_velocities(pan=8,tilt=8)\n",
    "#panのサーボを0.3rad、tiltのサーボを0.5rad移動する。\n",
    "joints.move_joint_positions(pan=0.3, tilt=0.5)\n",
    "# 1秒待つ\n",
    "time.sleep(1)\n",
    "# サーボの速度を3rad/sに変更\n",
    "joints.set_joint_velocities(pan=3,tilt=3)\n",
    "#初期位置に戻す。\n",
    "joints.move_joint_positions(pan=0, tilt=0)"
   ]
  },
  {
   "cell_type": "markdown",
   "id": "feced821-af97-45ce-b36f-962a48f0be79",
   "metadata": {},
   "source": [
    "加速度を変更するには、_set_joint_accelerations()_　を使います。  \n",
    "```python\n",
    "    AkaliClient::JointManager::set_joint_accelerations(\n",
    "        pan: Optional[float] = None,\n",
    "        tilt: Optional[float] = None\n",
    "    ) -> None:\n",
    "```\n",
    "> サーボの速度を指定する。単位は[rad/s^2]  \n",
    "\n",
    "この関数を先に呼んでから　_move_joint_positions()_　を実行すると、指定した加速度を目標値とし動くようになります。  \n",
    "下記のセルを実行すると、速度はどちらも8rad/sですが、加速度0.01rad/s^2で動いて0.1rad/s^2で初期位置に戻ります。動き方の変化が分かると思います。"
   ]
  },
  {
   "cell_type": "code",
   "execution_count": 27,
   "id": "fd12d05c-bd2d-4b11-aefb-488cfb116eae",
   "metadata": {},
   "outputs": [],
   "source": [
    "import time\n",
    "\n",
    "#pan、tiltのサーボをONにする。\n",
    "joints.set_servo_enabled(pan=True, tilt=True)\n",
    "#初期位置に戻す。\n",
    "joints.move_joint_positions(pan=0, tilt=0)\n",
    "# 1秒待つ\n",
    "time.sleep(1)\n",
    "\n",
    "# サーボの加速度を0.01rad/s^2に変更\n",
    "joints.set_joint_accelerations(pan=0.01,tilt=0.01)\n",
    "# サーボの速度を8rad/sに変更\n",
    "joints.set_joint_velocities(pan=8,tilt=8)\n",
    "#panのサーボを0.5rad、tiltのサーボを0.5rad移動する。\n",
    "joints.move_joint_positions(pan=0.5, tilt=0.5)\n",
    "# 3秒待つ\n",
    "time.sleep(3)\n",
    "# サーボの加速度を0.1rad/s^2に変更\n",
    "joints.set_joint_accelerations(pan=0.1,tilt=0.1)\n",
    "#初期位置に戻す。\n",
    "joints.move_joint_positions(pan=0, tilt=0)"
   ]
  },
  {
   "cell_type": "markdown",
   "id": "6f252834-6f8a-4106-bc4f-eb35fd9697c6",
   "metadata": {},
   "source": [
    "### 練習問題3\n",
    "panの速度を7rad/s、加速度を0.1rad/s、tiltの速度を3rad/s、加速度を0.02rad/sに変更してみましょう。  \n",
    "変更後は、pan0.7rad、tilt0.3radを向く→pan-0.7rad、tilt-0.3radを向く→初期位置に戻る、という動作をするようにセットしてあります。\n",
    "移動する角度panとtiltで大きく違うものの、速度、加速度に差をつけたことにより同じくらいの時間で移動するようになるはずです。"
   ]
  },
  {
   "cell_type": "code",
   "execution_count": 15,
   "id": "57c53f03-583a-4077-b7b6-33218954458b",
   "metadata": {},
   "outputs": [],
   "source": [
    "import time\n",
    "\n",
    "##### 以下問題 ####\n",
    "# pan、tiltの速度変更を記述\n",
    "\n",
    "# pan、tiltの加速度変更を記述\n",
    "\n",
    "##### 以上問題 ####\n",
    "\n",
    "#panのサーボを0.7rad、tiltのサーボを0.3radに移動する。\n",
    "joints.move_joint_positions(pan=0.7, tilt=0.3)\n",
    "# 3秒待つ\n",
    "time.sleep(3)\n",
    "#panのサーボを-0.7rad、tiltのサーボを-0.3radに移動する。\n",
    "joints.move_joint_positions(pan=-0.7, tilt=-0.3)\n",
    "# 3秒待つ\n",
    "time.sleep(3)\n",
    "#初期位置に戻す。\n",
    "joints.move_joint_positions(pan=0, tilt=0)"
   ]
  },
  {
   "cell_type": "markdown",
   "id": "5e534397-2da4-440f-a6b7-251251c58319",
   "metadata": {
    "jp-MarkdownHeadingCollapsed": true,
    "tags": []
   },
   "source": [
    "#### 答え"
   ]
  },
  {
   "cell_type": "code",
   "execution_count": 33,
   "id": "ea9e7cfe-1755-4be2-8a16-146d2f16886c",
   "metadata": {},
   "outputs": [],
   "source": [
    "import time\n",
    "\n",
    "##### 以下問題 ####\n",
    "# pan、tiltの加速度変更を記述\n",
    "joints.set_joint_accelerations(pan=0.1,tilt=0.02)\n",
    "# pan、tiltの速度変更を記述\n",
    "joints.set_joint_velocities(pan=7,tilt=3)\n",
    "\n",
    "##### 以上問題 ####\n",
    "\n",
    "#panのサーボを0.7rad、tiltのサーボを0.3radに移動する。\n",
    "joints.move_joint_positions(pan=0.7, tilt=0.3)\n",
    "# 3秒待つ\n",
    "time.sleep(3)\n",
    "#panのサーボを-0.7rad、tiltのサーボを-0.3radに移動する。\n",
    "joints.move_joint_positions(pan=-0.7, tilt=-0.3)\n",
    "# 3秒待つ\n",
    "time.sleep(3)\n",
    "#初期位置に戻す。\n",
    "joints.move_joint_positions(pan=0, tilt=0)"
   ]
  },
  {
   "cell_type": "markdown",
   "id": "49f987ba-3b94-4042-b20e-0e3dc443f5bf",
   "metadata": {},
   "source": [
    "## 5. サーボの現在位置を取得しよう\n",
    "最後に、サーボの現在位置を取得する方法を学習しましょう。\n",
    "サーボ位置の取得には、 _get_joint_position()_ を使います。\n",
    "```python\n",
    "    AkaliClient::JointManager::get_joint_positions(\n",
    "        void\n",
    "      ) -> Dict[str, float]:\n",
    "```\n",
    "> 現在角度を取得する。単位は[rad]  \n",
    "\n",
    "下記のセルを実行すると、サーボの現在位置を取得することができます。"
   ]
  },
  {
   "cell_type": "code",
   "execution_count": null,
   "id": "91828e6e-d45f-4495-82d9-aa2004cdf970",
   "metadata": {},
   "outputs": [],
   "source": [
    "# 現在位置を取得して出力\n",
    "pos = joints.get_joint_positions()\n",
    "print(pos)"
   ]
  },
  {
   "cell_type": "markdown",
   "id": "f61e416f-1186-45d4-baee-ae6d5e0a6214",
   "metadata": {},
   "source": [
    "panのセルの値、tiltのセルの値のみ取得することも可能です。"
   ]
  },
  {
   "cell_type": "code",
   "execution_count": null,
   "id": "a02218ef-e8c0-4f08-bff5-16e0443e1bb2",
   "metadata": {},
   "outputs": [],
   "source": [
    "# 現在位置を取得して出力\n",
    "pos=joints.get_joint_positions()\n",
    "print(\"panの角度は\" + str(pos['pan'])+\"です。\")"
   ]
  },
  {
   "cell_type": "markdown",
   "id": "07b1f1b6-f0a1-4073-8258-5d58de4e3f52",
   "metadata": {
    "tags": []
   },
   "source": [
    "### 練習問題4\n",
    "コメントの流れに従って穴埋めし、tiltの位置を-0.2radに移動して、現在のtiltの位置を「tiltの角度は〇〇radです。」と出力し、初期位置に戻しましょう。\n",
    "モータの精度上、0.2radちょうどにはなりません。"
   ]
  },
  {
   "cell_type": "code",
   "execution_count": null,
   "id": "903427bb-246f-44d4-9675-55ea2ebdc963",
   "metadata": {},
   "outputs": [],
   "source": [
    "import time\n",
    "\n",
    "### 以下問題\n",
    "# tiltのサーボを-0.2radに移動する。\n",
    "\n",
    "# 2秒停止\n",
    "\n",
    "# 現在位置を取得して出力\n",
    "\n",
    "# 2秒停止\n",
    "\n",
    "#tiltのサーボを0radに移動する。\n"
   ]
  },
  {
   "cell_type": "markdown",
   "id": "68cf6fa3-bfe1-48c8-910c-c50788e3a895",
   "metadata": {
    "jp-MarkdownHeadingCollapsed": true,
    "tags": []
   },
   "source": [
    "#### 答え"
   ]
  },
  {
   "cell_type": "code",
   "execution_count": 36,
   "id": "b29c82cf-075d-40e0-ab2a-e057ea521c8b",
   "metadata": {},
   "outputs": [
    {
     "name": "stdout",
     "output_type": "stream",
     "text": [
      "tiltの角度は-0.19026006758213043です。\n"
     ]
    }
   ],
   "source": [
    "import time\n",
    "\n",
    "### 以下問題\n",
    "# tiltのサーボを-0.2radに移動する。\n",
    "joints.move_joint_positions(tilt=-0.2)\n",
    "# 2秒停止\n",
    "time.sleep(2)\n",
    "# 現在位置を取得して出力\n",
    "pos =joints.get_joint_positions()\n",
    "print(\"tiltの角度は\" + str(pos['tilt']) + \"です。\")\n",
    "# 2秒停止\n",
    "time.sleep(2)\n",
    "#tiltのサーボを0radに移動する。\n",
    "joints.move_joint_positions(tilt=-0)"
   ]
  },
  {
   "cell_type": "markdown",
   "id": "452f7599-b27d-4f5a-bc69-12cfd8c33469",
   "metadata": {
    "jp-MarkdownHeadingCollapsed": true,
    "tags": []
   },
   "source": [
    "## 最後に\n",
    "以上でモータ制御のチュートリアルは終わりです。  \n",
    "次はM5との通信について説明します。"
   ]
  }
 ],
 "metadata": {
  "kernelspec": {
   "display_name": "Python 3",
   "language": "python",
   "name": "python3"
  },
  "language_info": {
   "codemirror_mode": {
    "name": "ipython",
    "version": 3
   },
   "file_extension": ".py",
   "mimetype": "text/x-python",
   "name": "python",
   "nbconvert_exporter": "python",
   "pygments_lexer": "ipython3",
   "version": "3.6.8"
  },
  "vscode": {
   "interpreter": {
    "hash": "045823372ae896803066400baabdd9ce57da994bf40a6bcd023d2de1b7d884a6"
   }
  }
 },
 "nbformat": 4,
 "nbformat_minor": 5
}
