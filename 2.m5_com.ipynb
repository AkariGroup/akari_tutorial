{
 "cells": [
  {
   "cell_type": "markdown",
   "id": "a68559e1-e081-4346-80c4-e211b7ea1676",
   "metadata": {
    "tags": []
   },
   "source": [
    "# M5との通信を試してみよう\n",
    "\n",
    "ここでは、AKARIでM5と通信をするサンプルを動かしながら、プログラムの書き方を説明します。"
   ]
  },
  {
   "cell_type": "markdown",
   "id": "b7fd0305-5d6a-4313-9b81-22e060c6f761",
   "metadata": {
    "tags": []
   },
   "source": [
    "## 1. ライブラリのインポートとインスタンスの作成\n",
    "まずは、M5との通信に使うakari_clientライブラリのインポートをして、AkariClientのインスタンスを作成します。  \n",
    "この作業を行うことで、モータ制御のための関数を使うことができるようになります。  \n",
    "importするのは、AkariClientというライブラリです。これは、下記のコマンドでインポートできます。  \n",
    " ```python\n",
    " # AkariClientのインポート\n",
    " from akari_client import AkariClient\n",
    " ```  \n",
    "また、このライブラリを用いて、AkariClientのインスタンスと、m5stackのインスタンスを取得する必要があります。  \n",
    " ```python\n",
    " # AkariClient、m5stackのインスタンスを取得する\n",
    " akari = AkariClient()  \n",
    " m5 = akari.m5stack\n",
    " ```\n",
    "まだpythonに詳しくない方は、とりあえず **M5と通信したい場合はこのコマンドを実行する必要がある** と覚えておけばOKです。  \n",
    "次のウインドウを実行して、ライブラリのインポートとインスタンスの作成を行っておきましょう"
   ]
  },
  {
   "cell_type": "code",
   "execution_count": null,
   "id": "8f48197b-7279-4516-9d87-35ed7a5c0891",
   "metadata": {},
   "outputs": [],
   "source": [
    "# M5との通信の際はakari_clientのライブラリをインポートする\n",
    "from akari_client import AkariClient\n",
    "\n",
    "# AkariClient、m5stackのインスタンスを取得する\n",
    "akari = AkariClient()\n",
    "m5 = akari.m5stack"
   ]
  },
  {
   "cell_type": "markdown",
   "id": "5c8f8866-6e11-4287-8ff8-2aa9dee1d2a1",
   "metadata": {
    "tags": []
   },
   "source": [
    "## 2. ボタンの情報を取得してみよう\n",
    "まずはM5のボタンのON、OFFをしてみましょう。  \n",
    "M5から情報を取得するには、_get()_ を使います。\n",
    "```python\n",
    "akari_client.m5stack_client.get(self) -> M5ComDict:\n",
    "\"\"\"M5から環境センサ、ヘッドGPIOの入力値、M5のボタンの状態を取得する。\n",
    "\n",
    "Returns:\n",
    "    M5ComDict: M5から取得した各データを格納したDict。\n",
    "\n",
    "\"\"\"\n",
    "```\n",
    "\n",
    "この _get()_ で取得できる値は、 _M5ComDict_ というクラスに格納されます。  \n",
    "これは、下記の形式となります。\n",
    "\n",
    "```python\n",
    "class M5ComDict(TypedDict):\n",
    "\"\"\"\n",
    "M5から取得する情報を格納するDict。\n",
    "din0: ヘッドのdin0ピンのデジタル入力。HiがTrue、LoがFalse。デフォルトHi。\n",
    "din1: ヘッドのdin1ピンのデジタル入力。HiがTrue、LoがFalse。デフォルトHi。\n",
    "ain0: ヘッドのain0ピンのアナログ入力。0-3.3Vを0-255の256段階にする。\n",
    "dout0: ヘッドのdout0ピンのデジタル出力。TrueでHi(3.3V)、FalseでLo(0V)。\n",
    "dout1: ヘッドのdout1ピンのデジタル出力。TrueでHi(3.3V)、FalseでLo(0V)。\n",
    "pwmout0: ヘッドのpwmout0ピンのPWM出力。0-255の256段階で0-3.3Vを出力可能。\n",
    "general0:任意値を入力可能なエリア。通常時は使用しない。M5のソフトを書き換えることで自由に使用可能。\n",
    "general1:任意値を入力可能なエリア。通常時は使用しない。M5のソフトを書き換えることで自由に使用可能。\n",
    "button_a: M5の前面のボタンAの入力。ボタンを押すとTrue、押していないとFalse。\n",
    "button_b: M5の前面のボタンBの入力。ボタンを押すとTrue、押していないとFalse。\n",
    "button_c: M5の前面のボタンCの入力。ボタンを押すとTrue、押していないとFalse。\n",
    "temperature: AKARI側面の環境センサモジュールの温度計測値。単位は℃。\n",
    "pressure: AKARI側面の環境センサモジュールの観測絶対圧力。単位はPa。\n",
    "brightness: AKARI側面の光センサユニットの観測明るさを4096段階で出力。0が最も明るい。\n",
    "time: データ取得した時間。M5のソフト起動時からの経過秒数を用いている。\n",
    "is_responce: akari_client()の各コマンド実行完了時のレスポンス。実行完了するとTrueを返す。\n",
    "\"\"\"\n",
    "\n",
    "```\n",
    "\n",
    "_get()_ により、上記の値をまとめて取得することができます。  \n",
    "_get()_ した後、各要素は個別に参照することができます。  \n",
    "M5のボタン入力は、\"button_a\", \"button_b\", \"button_c\" の各要素にアクセスすることで取得することができます。  \n",
    "例えば、下記はボタンAの入力を取得して表示するサンプルです。"
   ]
  },
  {
   "cell_type": "code",
   "execution_count": null,
   "id": "7345e564-90f0-4f10-9ce3-c24c3d44b70a",
   "metadata": {},
   "outputs": [],
   "source": [
    "# M5から情報を取得し、ボタンAの状態をprintする。\n",
    "# ボタンAを押しながら実行するとTrue、押していないとFalseが表示される。\n",
    "data = m5.get()\n",
    "print(\"ボタンAは\" + str(data[\"button_a\"]) + \"です。\")"
   ]
  },
  {
   "cell_type": "markdown",
   "id": "676d8f18-0d9e-4cf3-908b-b18ba3f58e1b",
   "metadata": {
    "tags": []
   },
   "source": [
    "### 練習問題1\n",
    "ボタンCの値を1秒毎に10回取得し、プリントしてみましょう。\n",
    "ボタンCを押した時にTrue、押していない時にFalseが表示されればOKです。"
   ]
  },
  {
   "cell_type": "code",
   "execution_count": null,
   "id": "e991dc99-bb99-4ace-9fb8-f63a96ccac51",
   "metadata": {
    "tags": []
   },
   "outputs": [],
   "source": [
    "import time\n",
    "# 10回繰り返す処理\n",
    "for i in range(0,10):\n",
    "    # M5の値を取得する処理を記述\n",
    "\n",
    "    # ボタンCの状態をprintする処理を記述\n",
    "    \n",
    "    # 1秒待つ\n",
    "    time.sleep(1)"
   ]
  },
  {
   "cell_type": "markdown",
   "id": "d84fcfed-7132-4761-b830-717ec0607cc4",
   "metadata": {
    "jp-MarkdownHeadingCollapsed": true,
    "tags": []
   },
   "source": [
    "#### 答え"
   ]
  },
  {
   "cell_type": "code",
   "execution_count": null,
   "id": "218154a1-ed7c-4cff-b4ce-cbea49be4751",
   "metadata": {
    "tags": []
   },
   "outputs": [],
   "source": [
    "import time\n",
    "# 10回繰り返す処理\n",
    "for i in range(0,10):\n",
    "    # M5の値を取得する処理を記述\n",
    "    data = m5.get()\n",
    "    # ボタンCの状態をprintする処理を記述\n",
    "    print(\"ボタンAは\" + str(data[\"button_a\"]) + \"です。\")\n",
    "    # 1秒待つ\n",
    "    time.sleep(1)"
   ]
  },
  {
   "cell_type": "markdown",
   "id": "15005dc1-8cf8-49c5-a364-6ea818f923e4",
   "metadata": {
    "tags": []
   },
   "source": [
    "## 3. ヘッドGPIOピンの入力を取得してみよう\n",
    "次にM5のヘッドのGPIOピンの入力を取得してみましょう。\n",
    "上と同じく、_get()_ を使います。\n",
    "GPIOの入力を取得する場合に用いる要素は\"din0\", \"din1\", \"ain0\"です。\n",
    "\n",
    "```python\n",
    "\"\"\"\n",
    "din0: ヘッドのdin0ピンのデジタル入力。HiがTrue、LoがFalse。デフォルトHi。\n",
    "din1: ヘッドのdin1ピンのデジタル入力。HiがTrue、LoがFalse。デフォルトHi。\n",
    "ain0: ヘッドのain0ピンのアナログ入力。0-3.3Vを0-255の256段階にする。\n",
    "\"\"\"\n",
    "\n",
    "```\n",
    "\n",
    "下記にdin0, din1, ain0の状態を取得するサンプルを記述します。  \n",
    "テスト用ヘッドモジュールをAKARIに接続している場合は、din0,din1のボタンを押したり、ain0のダイヤルを回すことで、表示される値が変化することが分かると思います。  "
   ]
  },
  {
   "cell_type": "code",
   "execution_count": null,
   "id": "35793e47-adb0-4de6-a6bc-f465b6115780",
   "metadata": {
    "tags": []
   },
   "outputs": [],
   "source": [
    "# M5から情報を取得し、din0, din1, ain0の状態をprintする。\n",
    "data = m5.get()\n",
    "print(\"din0は\" + str(data[\"din0\"]) + \", din1は\" + str(data[\"din1\"]) + \", ain0は\" + str(data[\"ain0\"]) + \"です。\") "
   ]
  },
  {
   "cell_type": "markdown",
   "id": "3f3b7e6a-4f89-47ef-9e2d-1e22bb6ffe10",
   "metadata": {
    "tags": []
   },
   "source": [
    "### 練習問題2\n",
    "din0の値がFalseの時だけ、\"din0がLoです。\"と表示されるようにしてみましょう。"
   ]
  },
  {
   "cell_type": "code",
   "execution_count": null,
   "id": "937acfb8-fa13-4559-9ece-b23e66f259d4",
   "metadata": {
    "tags": []
   },
   "outputs": [],
   "source": [
    "import time\n",
    "# 10回繰り返す処理\n",
    "for i in range(0,10):\n",
    "    # din0の値がFalseの場合、というif文を書いて、その場合のみ\"din0がLoです。\"とprintする処理を書く。\n",
    "\n",
    "    # 1秒待つ\n",
    "    time.sleep(1)\n",
    "print(\"終わります。\")"
   ]
  },
  {
   "cell_type": "markdown",
   "id": "92739636-aced-4091-adc9-2c41cdaeb70b",
   "metadata": {
    "jp-MarkdownHeadingCollapsed": true,
    "tags": []
   },
   "source": [
    "#### 答え"
   ]
  },
  {
   "cell_type": "code",
   "execution_count": null,
   "id": "e4300f11-3f28-40e1-aa0a-2ef3ee054f1c",
   "metadata": {
    "tags": []
   },
   "outputs": [],
   "source": [
    "import time\n",
    "# 10回繰り返す処理\n",
    "for i in range(0,10):\n",
    "    # din0の値がFalseの場合、というif文を書いて、その場合のみ\"din0がLoです。\"とprintする処理を書く。\n",
    "    data = m5.get()\n",
    "    if not data[\"din0\"]:\n",
    "        print(\"din0がLoです。\")    \n",
    "    # 1秒待つ\n",
    "    time.sleep(1)\n",
    "print(\"終わります。\")"
   ]
  },
  {
   "cell_type": "markdown",
   "id": "f206748d-67a6-4001-8afc-58ac3876d98e",
   "metadata": {
    "tags": []
   },
   "source": [
    "## 4. GPIOピンの出力をしてみよう。\n",
    "次にM5のヘッドのGPIOピンの出力をしてみましょう。  \n",
    "AKARIで出力できるGPIOには、デジタル出力(dout)とPWM出力(pwmout)があります。  \n",
    "デジタル出力の制御には、 _set_dout()_ を使います。\n",
    "```python\n",
    "akari_client.m5stack_client.set_dout(self, pin_id: int, value: bool, sync: bool = True) -> None:\n",
    "\"\"\"ヘッド部GPIOピンのデジタル出力を設定する。\n",
    "\n",
    "Args:\n",
    "    pin_id: pin番号。0でdout0、1でdout1を指定する。\n",
    "    value: デジタル出力の値。``False``で0V,``True``で3.3V出力。\n",
    "    sync: 同期実行の指定。``True``の場合M5側で実行完了するまで関数の終了待ちを行う。\n",
    "\n",
    "\"\"\"\n",
    "```\n",
    "\n",
    "下記にdout0をHi、dout1をLoにするサンプルを記載します。\n",
    "テスト用ヘッドモジュールをAKARIに接続している場合は、dout0のLEDが点灯します。"
   ]
  },
  {
   "cell_type": "code",
   "execution_count": null,
   "id": "743e9bca-f2c0-42ba-8bc0-0757a01dd46d",
   "metadata": {
    "tags": []
   },
   "outputs": [],
   "source": [
    "# dout0をHi\n",
    "m5.set_dout(pin_id=0,value=True)\n",
    "# dout1をLo\n",
    "m5.set_dout(pin_id=1,value=False)"
   ]
  },
  {
   "cell_type": "markdown",
   "id": "216e9bc5-7483-44b5-8417-b30911faaaf4",
   "metadata": {
    "tags": []
   },
   "source": [
    "PWM出力の制御には、 _set_pwmout()_ を使います。\n",
    "```python\n",
    "akari_client.m5stack_client.set_pwmout(self, pin_id: int, value: int, sync: bool = True) -> None:\n",
    "\"\"\"ヘッド部GPIOピンのPWM出力を設定する。\n",
    "\n",
    "Args:\n",
    "    pin_id: pin番号。デフォルトではpwmout0しかないため、0を指定すること。\n",
    "    value: PWM出力の値。 0-255で指定し、0で0V、255で3.3Vを出力する。\n",
    "    sync: 同期実行の指定。``True``の場合M5側で実行完了するまで関数の終了待ちを行う。\n",
    "\"\"\"\n",
    "```\n",
    "\n",
    "下記にpwmout0を255にするサンプルを記載します。\n",
    "テスト用ヘッドモジュールをAKARIに接続している場合は、pwmout0のLEDが点灯します。"
   ]
  },
  {
   "cell_type": "code",
   "execution_count": null,
   "id": "49c5c8a3-ea70-4700-972f-5a646083c0a5",
   "metadata": {
    "tags": []
   },
   "outputs": [],
   "source": [
    "# pwmout0を255に\n",
    "m5.set_pwmout(pin_id=0,value=255)"
   ]
  },
  {
   "cell_type": "markdown",
   "id": "0aabf1e8-6e31-4209-a9c0-5b3e9cbf3dc3",
   "metadata": {
    "tags": []
   },
   "source": [
    "また、 _set_allout()_ を使うことで、3ピン同時に制御することもできます。\n",
    "```python\n",
    "akari_client.m5stack_client.set_allout(\n",
    "        self,\n",
    "        *,\n",
    "        dout0: bool,\n",
    "        dout1: bool,\n",
    "        pwmout0: int,\n",
    "        sync: bool = True,\n",
    "    ) -> None:\n",
    "\"\"\"ヘッド部GPIOピンの出力をまとめて設定する。\n",
    "\n",
    "Args:\n",
    "    dout0: dout0の出力値。``False``で0V,``True``で3.3V出力。\n",
    "    dout1: dout1の出力値。``False``で0V,``True``で3.3V出力。\n",
    "    pwmout0: pwmout0の出力値。0-255で指定し、0で0V、255で3.3Vを出力する。\n",
    "    sync: 同期実行の指定。``True``の場合M5側で実行完了するまで関数の終了待ちを行う。\n",
    "\n",
    "\"\"\"\n",
    "```\n",
    "\n",
    "下記にdout0をLo,dout1をHi,pwmout0を200にするサンプルを記載します。"
   ]
  },
  {
   "cell_type": "code",
   "execution_count": null,
   "id": "d56a9144-0dce-4393-b1b0-894918a0b0d1",
   "metadata": {
    "tags": []
   },
   "outputs": [],
   "source": [
    "# pwmout0を255に\n",
    "m5.set_allout(dout0=False,dout1=True,pwmout0=200)"
   ]
  },
  {
   "cell_type": "markdown",
   "id": "f2f11235-4e9c-41d5-bd5e-2ba5b5dad796",
   "metadata": {
    "tags": []
   },
   "source": [
    "### 練習問題3\n",
    "dout0,dout1を1秒ずつ順番にHiにする処理を3回ずつ繰り返す処理を書いてみましょう。"
   ]
  },
  {
   "cell_type": "code",
   "execution_count": null,
   "id": "b42c8b05-e39c-460a-895c-3f2bfca29ee7",
   "metadata": {
    "tags": []
   },
   "outputs": [],
   "source": [
    "import time\n",
    "# 3回繰り返す処理\n",
    "for i in range(0,3):\n",
    "    # dout0をHi,dout1をLoにする処理を書く。\n",
    "\n",
    "    # 1秒待つ\n",
    "    time.sleep(1)\n",
    "    # dout0をLo,dout1をhiにする処理を書く。\n",
    "\n",
    "    # 1秒待つ\n",
    "    time.sleep(1)\n",
    "\n",
    "print(\"終わります。\")"
   ]
  },
  {
   "cell_type": "markdown",
   "id": "50f2c51b-80e1-48d8-ad3d-f0e958445200",
   "metadata": {
    "jp-MarkdownHeadingCollapsed": true,
    "tags": []
   },
   "source": [
    "#### 答え"
   ]
  },
  {
   "cell_type": "code",
   "execution_count": null,
   "id": "2fea8894-9a53-431e-a8ac-18313771bb98",
   "metadata": {
    "tags": []
   },
   "outputs": [],
   "source": [
    "import time\n",
    "# 3回繰り返す処理\n",
    "for i in range(0,3):\n",
    "    # dout0をHi,dout1をLoにする処理を書く。\n",
    "    m5.set_dout(pin_id=0, value=True)\n",
    "    m5.set_dout(pin_id=1, value=False)\n",
    "    # 1秒待つ\n",
    "    time.sleep(1)\n",
    "    # dout0をLo,dout1をhiにする処理を書く。\n",
    "    m5.set_dout(pin_id=0, value=False)\n",
    "    m5.set_dout(pin_id=1, value=True)\n",
    "    # 1秒待つ\n",
    "    time.sleep(1)\n",
    "\n",
    "print(\"終わります。\")"
   ]
  },
  {
   "cell_type": "markdown",
   "id": "af833aed-d1d3-4d6f-9c6f-897ee873d3ed",
   "metadata": {
    "tags": []
   },
   "source": [
    "## 5. GPIOピンの出力を確認しよう。\n",
    "4.でセットしたGPIOピンの出力は _get()_ を使い取得することができます。 GPIOの出力を取得する場合に用いる要素は\"dout0\", \"dout1\", \"pwmout0\"です。\n",
    "```python\n",
    "\"\"\"\n",
    "dout0: ヘッドのdout0ピンのデジタル出力。TrueでHi(3.3V)、FalseでLo(0V)。\n",
    "dout1: ヘッドのdout1ピンのデジタル出力。TrueでHi(3.3V)、FalseでLo(0V)。\n",
    "pwmout0: ヘッドのpwmout0ピンのPWM出力。0-255の256段階で0-3.3Vを出力可能。\n",
    "\"\"\"\n",
    "```\n",
    "\n",
    "下記にdout0, dout1, pwmout0の状態を取得するサンプルを記述します。"
   ]
  },
  {
   "cell_type": "code",
   "execution_count": null,
   "id": "56929522-31b6-45b1-81d9-20a8703823af",
   "metadata": {
    "tags": []
   },
   "outputs": [],
   "source": [
    "# M5から情報を取得し、dout0, dout1, pwmout0の状態をprintする。\n",
    "data = m5.get()\n",
    "print(\"dout0は\" + str(data[\"dout0\"]) + \", dout1は\" + str(data[\"dout1\"]) + \", pwmout0は\" + str(data[\"pwmout0\"]) + \"です。\") "
   ]
  },
  {
   "cell_type": "markdown",
   "id": "184b91b5-399b-4948-bf93-7927448ca951",
   "metadata": {
    "tags": []
   },
   "source": [
    "### 練習問題4\n",
    "練習問題3に、dout0,dout1の現在値を取得し、printする処理を追加してみましょう。"
   ]
  },
  {
   "cell_type": "code",
   "execution_count": null,
   "id": "c0a86c86-e33b-496c-b26e-fcb999055e44",
   "metadata": {
    "tags": []
   },
   "outputs": [],
   "source": [
    "import time\n",
    "# 3回繰り返す処理\n",
    "for i in range(0,3):\n",
    "    # dout0をHi,dout1をLoにする。\n",
    "    m5.set_dout(pin_id=0, value=True)\n",
    "    m5.set_dout(pin_id=1, value=False)\n",
    "    # dout0,dout1の現在状態を取得し、printする処理を書く。\n",
    "    \n",
    "    # 1秒待つ\n",
    "    time.sleep(1)\n",
    "    # dout0をLo,dout1をhiにする。\n",
    "    m5.set_dout(pin_id=0, value=False)\n",
    "    m5.set_dout(pin_id=1, value=True)\n",
    "    # dout0,dout1の現在状態を取得し、printする処理を書く。\n",
    "    \n",
    "    # 1秒待つ\n",
    "    time.sleep(1)\n",
    "\n",
    "print(\"終わります。\")"
   ]
  },
  {
   "cell_type": "markdown",
   "id": "595d67fd-81f2-46bb-902e-5a7e3c76bc90",
   "metadata": {
    "jp-MarkdownHeadingCollapsed": true,
    "tags": []
   },
   "source": [
    "#### 答え"
   ]
  },
  {
   "cell_type": "code",
   "execution_count": null,
   "id": "0128fd35-3bc4-44cb-a100-b8410277b75c",
   "metadata": {
    "tags": []
   },
   "outputs": [],
   "source": [
    "import time\n",
    "# 3回繰り返す処理\n",
    "for i in range(0,3):\n",
    "    # dout0をHi,dout1をLoにする。\n",
    "    m5.set_dout(pin_id=0, value=True)\n",
    "    m5.set_dout(pin_id=1, value=False)\n",
    "    # dout0,dout1の現在状態を取得し、printする処理を書く。\n",
    "    data = m5.get()\n",
    "    print(\"dout0は\" + str(data[\"dout0\"]) + \", dout1は\" + str(data[\"dout1\"]) + \"です。\") \n",
    "    # 1秒待つ\n",
    "    time.sleep(1)\n",
    "    # dout0をLo,dout1をhiにする。\n",
    "    m5.set_dout(pin_id=0, value=False)\n",
    "    m5.set_dout(pin_id=1, value=True)\n",
    "    # dout0,dout1の現在状態を取得し、printする処理を書く。\n",
    "    data = m5.get()\n",
    "    print(\"dout0は\" + str(data[\"dout0\"]) + \", dout1は\" + str(data[\"dout1\"]) + \"です。\")\n",
    "    # 1秒待つ\n",
    "    time.sleep(1)\n",
    "\n",
    "print(\"終わります。\")"
   ]
  },
  {
   "cell_type": "markdown",
   "id": "49d7d7b9-43e9-4b71-bc42-a7ac98eb9495",
   "metadata": {
    "tags": []
   },
   "source": [
    "## 6. 環境センサの計測値を確認しよう。\n",
    "環境線センサの計測した温度、気圧、明るさも _get()_ を使い取得することができます。 温度は\"temperature\", 気圧は\"pressure\", 明るさは\"brightness\"の各要素から取得することができます。\n",
    "```python\n",
    "\"\"\"\n",
    "temperature: AKARI側面の環境センサモジュールの温度計測値。単位は℃。  \n",
    "pressure: AKARI側面の環境センサモジュールの観測絶対圧力。単位はPa。  \n",
    "brightness: AKARI側面の光センサユニットの観測明るさを4096段階で出力。0が最も明るい。  \n",
    "\"\"\"\n",
    "```\n",
    "下記に温度、気圧、明るさの状態を取得するサンプルを記述します。"
   ]
  },
  {
   "cell_type": "code",
   "execution_count": null,
   "id": "cc61a82f-78d3-4db6-8ff5-98b12f020452",
   "metadata": {
    "tags": []
   },
   "outputs": [],
   "source": [
    "# M5から情報を取得し、dout0, dout1, pwmout0の状態をprintする。\n",
    "data = m5.get()\n",
    "print(\"温度は\" + str(data[\"temperature\"]) + \"℃, 気圧は\" + str(data[\"pressure\"]) + \"Pa, 明るさは\" + str(data[\"brightness\"]) + \"です。\") "
   ]
  },
  {
   "cell_type": "markdown",
   "id": "a24a89c7-6d5b-4d5f-8163-024239ed944b",
   "metadata": {
    "tags": []
   },
   "source": [
    "### 練習問題5\n",
    "明るさが3500以上になったら\"暗いです!\"と表示してみましょう(明るさ値は暗いほど高くなります)。  \n",
    "AKARIのボディー側面の光センサユニットを指で覆うと明るさの値が高くなります。"
   ]
  },
  {
   "cell_type": "code",
   "execution_count": null,
   "id": "bdbae811-93ed-47b7-995f-80436c3f9694",
   "metadata": {
    "tags": []
   },
   "outputs": [],
   "source": [
    "import time\n",
    "# 10回繰り返す処理\n",
    "for i in range(0,10):\n",
    "    # m5からセンサを取得する処理を書く\n",
    "    \n",
    "    # 明るさが3500以上だった場合\"暗いです！\"と表示する処理を、if文を用いて書く\n",
    "    \n",
    "    # 1秒待つ\n",
    "    time.sleep(1)\n",
    "print(\"終わります。\")"
   ]
  },
  {
   "cell_type": "markdown",
   "id": "7c4fdebe-f915-413f-89f7-0b9c4b793d71",
   "metadata": {
    "jp-MarkdownHeadingCollapsed": true,
    "tags": []
   },
   "source": [
    "#### 答え"
   ]
  },
  {
   "cell_type": "code",
   "execution_count": null,
   "id": "66d7b885-b941-4451-a1f5-19f2495787fb",
   "metadata": {
    "tags": []
   },
   "outputs": [],
   "source": [
    "import time\n",
    "# 10回繰り返す処理\n",
    "for i in range(0,10):\n",
    "    # m5からセンサを取得する処理を書く\n",
    "    data = m5.get()\n",
    "    # 明るさが3500以上だった場合\"暗いです！\"と表示する処理を、if文を用いて書く\n",
    "    if(data[\"brightness\"]>=3500):\n",
    "        print(\"暗いです！\")\n",
    "    # 1秒待つ\n",
    "    time.sleep(1)\n",
    "print(\"終わります。\")"
   ]
  },
  {
   "cell_type": "markdown",
   "id": "452f7599-b27d-4f5a-bc69-12cfd8c33469",
   "metadata": {
    "tags": []
   },
   "source": [
    "## 最後に\n",
    "以上でM5との通信のチュートリアルは終わりです。  \n",
    "その他にもいくつかのAPIがあります。詳しくは[SDKリファレンス](https://akari-docs.vbcpp.net/source/sdk_reference/akari_client/joint.html#)を参照ください。  \n",
    "次はM5のディスプレイ制御について説明します。"
   ]
  }
 ],
 "metadata": {
  "kernelspec": {
   "display_name": "Python 3 (ipykernel)",
   "language": "python",
   "name": "python3"
  },
  "language_info": {
   "codemirror_mode": {
    "name": "ipython",
    "version": 3
   },
   "file_extension": ".py",
   "mimetype": "text/x-python",
   "name": "python",
   "nbconvert_exporter": "python",
   "pygments_lexer": "ipython3",
   "version": "3.8.10"
  }
 },
 "nbformat": 4,
 "nbformat_minor": 5
}
