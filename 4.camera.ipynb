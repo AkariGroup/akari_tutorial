{
 "cells": [
  {
   "cell_type": "markdown",
   "id": "a68559e1-e081-4346-80c4-e211b7ea1676",
   "metadata": {
    "tags": []
   },
   "source": [
    "# カメラの映像を取得してみよう\n",
    "\n",
    "ここでは、AKARIのヘッドのOAK-D Liteのカメラ映像の取得方法を説明します。"
   ]
  },
  {
   "cell_type": "markdown",
   "id": "b7fd0305-5d6a-4313-9b81-22e060c6f761",
   "metadata": {
    "tags": []
   },
   "source": [
    "## 1. RGB画像の取得\n",
    "まずはOAK-D LiteのRGB画像の取得を試してみましょう。  \n",
    "OAK-Dは使い方がやや特殊です。まず、下記のセルを実行してRGB画像を取得するためのOAK-Dのセットアップをします。\n"
   ]
  },
  {
   "cell_type": "code",
   "execution_count": null,
   "id": "8f48197b-7279-4516-9d87-35ed7a5c0891",
   "metadata": {},
   "outputs": [],
   "source": [
    "import cv2\n",
    "import depthai as dai\n",
    "%matplotlib inline\n",
    "import matplotlib.pyplot as plt\n",
    "\n",
    "# OAK-Dのパイプライン作成\n",
    "pipeline = dai.Pipeline()\n",
    "\n",
    "# ソースとアウトプットの設定\n",
    "cam_rgb = pipeline.create(dai.node.ColorCamera)\n",
    "xout_video = pipeline.create(dai.node.XLinkOut)\n",
    "\n",
    "# RGBのカメラ、1080P、解像度1920x1080を指定\n",
    "cam_rgb.setBoardSocket(dai.CameraBoardSocket.RGB)\n",
    "cam_rgb.setResolution(dai.ColorCameraProperties.SensorResolution.THE_1080_P)\n",
    "cam_rgb.setVideoSize(1920, 1080)\n",
    "# ソースとアウトプットを接続\n",
    "cam_rgb.video.link(xout_video.input)\n",
    "\n",
    "# キューのブロッキングなし、キューサイズ１を指定\n",
    "xout_video.input.setBlocking(False)\n",
    "xout_video.input.setQueueSize(1)\n",
    "# ストリーミング名設定\n",
    "xout_video.setStreamName(\"video\")\n",
    "\n",
    "cam_rgb.preview.link(xout_video.input)"
   ]
  },
  {
   "cell_type": "markdown",
   "id": "da98f17e",
   "metadata": {},
   "source": [
    "次に下記のセルを実行することで、画像を取得して表示することができます。"
   ]
  },
  {
   "cell_type": "code",
   "execution_count": null,
   "id": "694a906a",
   "metadata": {},
   "outputs": [],
   "source": [
    "# デバイスをパイプラインに接続\n",
    "with dai.Device(pipeline) as device:\n",
    "    # フレームを取得して表示\n",
    "    video = device.getOutputQueue(name=\"video\", maxSize=1, blocking=False)  # type: ignore\n",
    "    frame = video.get().getCvFrame()\n",
    "    plt.imshow(cv2.cvtColor(frame, cv2.COLOR_BGR2RGB))\n",
    "    plt.show()"
   ]
  },
  {
   "cell_type": "markdown",
   "id": "b7fd0305-5d6a-4313-9b81-22e060c6f761",
   "metadata": {
    "tags": []
   },
   "source": [
    "## 2. ステレオdepth画像の取得\n",
    "次にOAK-D LiteのステレオRGBを用いたdepth画像の取得を試してみましょう。  \n",
    "まず、下記のセルを実行してステレオ画像を取得するためのOAK-Dのセットアップをします。"
   ]
  },
  {
   "cell_type": "code",
   "execution_count": null,
   "id": "8f48197b-7279-4516-9d87-35ed7a5c0891",
   "metadata": {},
   "outputs": [],
   "source": [
    "import cv2\n",
    "import numpy\n",
    "import depthai as dai\n",
    "%matplotlib inline\n",
    "import matplotlib.pyplot as plt\n",
    "\n",
    "MAX_DEPTH = 1500.0  # unit: [mm]\n",
    "\n",
    "# OAK-Dのパイプライン作成\n",
    "pipeline = dai.Pipeline()\n",
    "\n",
    "# ソースとアウトプットの設定\n",
    "cam_left = pipeline.create(dai.node.MonoCamera)\n",
    "cam_left.setResolution(dai.MonoCameraProperties.SensorResolution.THE_480_P)\n",
    "cam_right = pipeline.create(dai.node.MonoCamera)\n",
    "cam_right.setResolution(dai.MonoCameraProperties.SensorResolution.THE_480_P)\n",
    "stereo = pipeline.create(dai.node.StereoDepth)\n",
    "xout_depth = pipeline.create(dai.node.XLinkOut)\n",
    "\n",
    "# ストリーミング名設定\n",
    "xout_depth.setStreamName(\"depth\")\n",
    "\n",
    "# ソースとアウトプットを接続\n",
    "cam_left.out.link(stereo.left)\n",
    "cam_right.out.link(stereo.right)\n",
    "stereo.depth.link(xout_depth.input)\n"
   ]
  },
  {
   "cell_type": "markdown",
   "id": "da98f17e",
   "metadata": {},
   "source": [
    "次に下記のセルを実行することで、画像を取得して表示することができます。"
   ]
  },
  {
   "cell_type": "code",
   "execution_count": null,
   "id": "694a906a",
   "metadata": {},
   "outputs": [],
   "source": [
    "# デバイスをパイプラインに接続\n",
    "with dai.Device(pipeline) as device:\n",
    "    video = device.getOutputQueue(name=\"depth\", maxSize=4, blocking=False)  # type: ignore\n",
    "    depth = video.get().getCvFrame()\n",
    "    # フレームをカラーマップに割り当て\n",
    "    depth[numpy.where(depth > MAX_DEPTH)] = 0\n",
    "    norm_depth = (depth * (255 / MAX_DEPTH)).astype(numpy.uint8)\n",
    "    colored_depth: numpy.ndarray = cv2.applyColorMap(norm_depth, cv2.COLORMAP_JET)\n",
    "    plt.imshow(colored_depth)\n",
    "    plt.show()"
   ]
  },
  {
   "cell_type": "markdown",
   "id": "452f7599-b27d-4f5a-bc69-12cfd8c33469",
   "metadata": {
    "tags": []
   },
   "source": [
    "## 最後に\n",
    "以上でカメラ画像取得のチュートリアルは終わりです。  \n",
    "OAK-Dの使い方はここでは説明していない内容が多数あります。詳しくは[depthaiのマニュアル](https://docs.luxonis.com/en/latest/)をご覧ください。  \n",
    "AKARIのチュートリアルは以上となります。"
   ]
  },
  {
   "cell_type": "markdown",
   "id": "3efe3bc0",
   "metadata": {},
   "source": []
  }
 ],
 "metadata": {
  "kernelspec": {
   "display_name": "Python 3.8.10 64-bit",
   "language": "python",
   "name": "python3"
  },
  "language_info": {
   "codemirror_mode": {
    "name": "ipython",
    "version": 3
   },
   "file_extension": ".py",
   "mimetype": "text/x-python",
   "name": "python",
   "nbconvert_exporter": "python",
   "pygments_lexer": "ipython3",
   "version": "3.8.10"
  },
  "vscode": {
   "interpreter": {
    "hash": "916dbcbb3f70747c44a77c7bcd40155683ae19c65e1c03b4aa3499c5328201f1"
   }
  }
 },
 "nbformat": 4,
 "nbformat_minor": 5
}
