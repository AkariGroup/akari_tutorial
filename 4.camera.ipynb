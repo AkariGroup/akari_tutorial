{
 "cells": [
  {
   "cell_type": "markdown",
   "id": "a68559e1-e081-4346-80c4-e211b7ea1676",
   "metadata": {
    "tags": []
   },
   "source": [
    "# カメラの映像を取得してみよう\n",
    "\n",
    "ここでは、AKARIのヘッドのOAK-D Liteのカメラ映像の取得方法を説明します。"
   ]
  },
  {
   "cell_type": "markdown",
   "id": "b7fd0305-5d6a-4313-9b81-22e060c6f761",
   "metadata": {
    "tags": []
   },
   "source": [
    "## 1. ライブラリのインポートとインスタンスの作成\n",
    "まずは、M5との通信に使うakari_clientライブラリのインポートをして、AkariClientのインスタンスを作成します。  \n",
    "この作業を行うことで、モータ制御のための関数を使うことができるようになります。  \n",
    "importするのは、AkariClientというライブラリです。これは、下記のコマンドでインポートできます。  \n",
    " ```python\n",
    " # AkariClientのインポート\n",
    " from akari_client import AkariClient\n",
    " ```  \n",
    "更に、ディスプレイ制御では、位置を指定する際に使う _Positions_ と、色を指定する際に使う _Color_ , _Colors_クラスもインポートする必要があります。\n",
    " ```python\n",
    " # 位置を指定する際に使うPositionsのインポート\n",
    "from akari_client.position import Positions\n",
    " # 色を指定する際に使うColors,Colorのインポート\n",
    "from akari_client.color import Colors, Color\n",
    " ```\n",
    "また、このライブラリを用いて、AkariClientのインスタンスと、m5stackのインスタンスを取得する必要があります。  \n",
    " ```python\n",
    " # AkariClient、m5stackのインスタンスを取得する\n",
    " akari = AkariClient()  \n",
    " m5 = akari.m5stack\n",
    " ```\n",
    "\n",
    "まだpythonに詳しくない方は、とりあえず **M5のディスプレイ制御をしたい場合はこのコマンドを実行する必要がある** と覚えておけばOKです。  \n",
    "次のウインドウを実行して、ライブラリのインポートとインスタンスの作成を行っておきましょう"
   ]
  },
  {
   "cell_type": "code",
   "execution_count": null,
   "id": "e1b5f558-773e-446b-84c1-267d76d6a87a",
   "metadata": {},
   "outputs": [],
   "source": [
    "!pip install depthai matplotlib opencv-python-headless"
   ]
  },
  {
   "cell_type": "code",
   "execution_count": null,
   "id": "54a47d24-9aeb-43b7-be14-b6f4f0482ab7",
   "metadata": {},
   "outputs": [],
   "source": [
    "%matplotlib inline\n",
    "import matplotlib.pyplot as plt"
   ]
  },
  {
   "cell_type": "code",
   "execution_count": null,
   "id": "8f48197b-7279-4516-9d87-35ed7a5c0891",
   "metadata": {},
   "outputs": [],
   "source": [
    "import cv2\n",
    "import depthai as dai\n",
    "from IPython.display import clear_output\n",
    "import time\n",
    "\n",
    "def show_rgb_image():\n",
    "    # OAK-Dのパイプライン作成\n",
    "    pipeline = dai.Pipeline()\n",
    "\n",
    "    # ソースとアウトプットの設定\n",
    "    camRgb = pipeline.create(dai.node.ColorCamera)\n",
    "    xoutVideo = pipeline.create(dai.node.XLinkOut)\n",
    "\n",
    "    # ストリーミング名設定\n",
    "    xoutVideo.setStreamName(\"video\")\n",
    "\n",
    "    # RGBのカメラ、1080P、解像度1920x1080を指定\n",
    "    camRgb.setBoardSocket(dai.CameraBoardSocket.RGB)\n",
    "    camRgb.setResolution(dai.ColorCameraProperties.SensorResolution.THE_1080_P)\n",
    "    camRgb.setVideoSize(1920, 1080)\n",
    "\n",
    "    # キューのブロッキングなし、キューサイズ１を指定\n",
    "    xoutVideo.input.setBlocking(False)\n",
    "    xoutVideo.input.setQueueSize(1)\n",
    "\n",
    "    # ソースとアウトプットを接続\n",
    "    camRgb.video.link(xoutVideo.input)\n",
    "\n",
    "    # デバイスをパイプラインに接続\n",
    "    with dai.Device(pipeline) as device:\n",
    "        while True:\n",
    "            video = device.getOutputQueue(name=\"video\", maxSize=1, blocking=False)  # type: ignore\n",
    "            frame = video.get().getCvFrame()\n",
    "            clear_output(wait=True)\n",
    "            plt.imshow(cv2.cvtColor(frame, cv2.COLOR_BGR2RGB))\n",
    "            plt.show()\n",
    "\n",
    "show_rgb_image()"
   ]
  },
  {
   "cell_type": "markdown",
   "id": "452f7599-b27d-4f5a-bc69-12cfd8c33469",
   "metadata": {
    "tags": []
   },
   "source": [
    "## 最後に\n",
    "以上でM5との通信のチュートリアルは終わりです。  \n",
    "その他にもいくつかのAPIがあります。詳しくは[SDKリファレンス](https://akari-docs.vbcpp.net/source/sdk_reference/akari_client/joint.html#)を参照ください。  \n",
    "次はM5のディスプレイ制御について説明します。"
   ]
  }
 ],
 "metadata": {
  "kernelspec": {
   "display_name": "Python 3.8.15 64-bit",
   "language": "python",
   "name": "python3"
  },
  "language_info": {
   "codemirror_mode": {
    "name": "ipython",
    "version": 3
   },
   "file_extension": ".py",
   "mimetype": "text/x-python",
   "name": "python",
   "nbconvert_exporter": "python",
   "pygments_lexer": "ipython3",
   "version": "3.8.15"
  },
  "vscode": {
   "interpreter": {
    "hash": "949777d72b0d2535278d3dc13498b2535136f6dfe0678499012e853ee9abcab1"
   }
  }
 },
 "nbformat": 4,
 "nbformat_minor": 5
}
