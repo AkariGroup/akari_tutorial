{
 "cells": [
  {
   "cell_type": "markdown",
   "id": "a68559e1-e081-4346-80c4-e211b7ea1676",
   "metadata": {
    "tags": []
   },
   "source": [
    "# M5のディスプレイ制御を試してみよう\n",
    "\n",
    "ここでは、AKARIでM5のディスプレイを制御するサンプルを動かしながら、プログラムの書き方を説明します。"
   ]
  },
  {
   "cell_type": "markdown",
   "id": "b7fd0305-5d6a-4313-9b81-22e060c6f761",
   "metadata": {
    "tags": []
   },
   "source": [
    "## 1. ライブラリのインポートとインスタンスの作成\n",
    "まずは、M5との通信に使うakari_clientライブラリのインポートをして、AkariClientのインスタンスを作成します。  \n",
    "この作業を行うことで、モータ制御のための関数を使うことができるようになります。  \n",
    "importするのは、AkariClientというライブラリです。これは、下記のコマンドでインポートできます。  \n",
    " ```python\n",
    " # AkariClientのインポート\n",
    " from akari_client import AkariClient\n",
    " ```  \n",
    "更に、ディスプレイ制御では、位置を指定する際に使う _Positions_ と、色を指定する際に使う _Color_ , _Colors_クラスもインポートする必要があります。\n",
    " ```python\n",
    " # 位置を指定する際に使うPositionsのインポート\n",
    "from akari_client.position import Positions\n",
    " # 色を指定する際に使うColors,Colorのインポート\n",
    "from akari_client.color import Colors, Color\n",
    " ```\n",
    "また、このライブラリを用いて、AkariClientのインスタンスと、m5stackのインスタンスを取得する必要があります。  \n",
    " ```python\n",
    " # AkariClient、m5stackのインスタンスを取得する\n",
    " akari = AkariClient()  \n",
    " m5 = akari.m5stack\n",
    " ```\n",
    "\n",
    "まだpythonに詳しくない方は、とりあえず **M5のディスプレイ制御をしたい場合はこのコマンドを実行する必要がある** と覚えておけばOKです。  \n",
    "次のウインドウを実行して、ライブラリのインポートとインスタンスの作成を行っておきましょう"
   ]
  },
  {
   "cell_type": "code",
   "execution_count": 2,
   "id": "e1b5f558-773e-446b-84c1-267d76d6a87a",
   "metadata": {},
   "outputs": [
    {
     "name": "stdout",
     "output_type": "stream",
     "text": [
      "Collecting depthai\n",
      "  Downloading depthai-2.19.1.0-cp38-cp38-manylinux_2_17_x86_64.manylinux2014_x86_64.whl (10.5 MB)\n",
      "\u001b[2K     \u001b[90m━━━━━━━━━━━━━━━━━━━━━━━━━━━━━━━━━━━━━━━━\u001b[0m \u001b[32m10.5/10.5 MB\u001b[0m \u001b[31m5.7 MB/s\u001b[0m eta \u001b[36m0:00:00\u001b[0m:00:01\u001b[0m0:01\u001b[0m\n",
      "\u001b[?25hCollecting matplotlib\n",
      "  Downloading matplotlib-3.6.2-cp38-cp38-manylinux_2_12_x86_64.manylinux2010_x86_64.whl (9.4 MB)\n",
      "\u001b[2K     \u001b[90m━━━━━━━━━━━━━━━━━━━━━━━━━━━━━━━━━━━━━━━━\u001b[0m \u001b[32m9.4/9.4 MB\u001b[0m \u001b[31m15.1 MB/s\u001b[0m eta \u001b[36m0:00:00\u001b[0m00:01\u001b[0m00:01\u001b[0m\n",
      "\u001b[?25hCollecting opencv-python-headless\n",
      "  Downloading opencv_python_headless-4.6.0.66-cp36-abi3-manylinux_2_17_x86_64.manylinux2014_x86_64.whl (48.3 MB)\n",
      "\u001b[2K     \u001b[90m━━━━━━━━━━━━━━━━━━━━━━━━━━━━━━━━━━━━━━━━\u001b[0m \u001b[32m48.3/48.3 MB\u001b[0m \u001b[31m4.9 MB/s\u001b[0m eta \u001b[36m0:00:00\u001b[0m:00:01\u001b[0m00:01\u001b[0m\n",
      "\u001b[?25hCollecting kiwisolver>=1.0.1\n",
      "  Downloading kiwisolver-1.4.4-cp38-cp38-manylinux_2_5_x86_64.manylinux1_x86_64.whl (1.2 MB)\n",
      "\u001b[2K     \u001b[90m━━━━━━━━━━━━━━━━━━━━━━━━━━━━━━━━━━━━━━━━\u001b[0m \u001b[32m1.2/1.2 MB\u001b[0m \u001b[31m5.3 MB/s\u001b[0m eta \u001b[36m0:00:00\u001b[0m:00:01\u001b[0m00:01\u001b[0m\n",
      "\u001b[?25hRequirement already satisfied: packaging>=20.0 in /host_var/.venv/lib/python3.8/site-packages (from matplotlib) (21.3)\n",
      "Collecting contourpy>=1.0.1\n",
      "  Downloading contourpy-1.0.6-cp38-cp38-manylinux_2_17_x86_64.manylinux2014_x86_64.whl (295 kB)\n",
      "\u001b[2K     \u001b[90m━━━━━━━━━━━━━━━━━━━━━━━━━━━━━━━━━━━━━━━\u001b[0m \u001b[32m296.0/296.0 KB\u001b[0m \u001b[31m4.2 MB/s\u001b[0m eta \u001b[36m0:00:00\u001b[0ma \u001b[36m0:00:01\u001b[0m\n",
      "\u001b[?25hRequirement already satisfied: pyparsing>=2.2.1 in /host_var/.venv/lib/python3.8/site-packages (from matplotlib) (3.0.9)\n",
      "Collecting cycler>=0.10\n",
      "  Downloading cycler-0.11.0-py3-none-any.whl (6.4 kB)\n",
      "Collecting fonttools>=4.22.0\n",
      "  Downloading fonttools-4.38.0-py3-none-any.whl (965 kB)\n",
      "\u001b[2K     \u001b[90m━━━━━━━━━━━━━━━━━━━━━━━━━━━━━━━━━━━━━━━\u001b[0m \u001b[32m965.4/965.4 KB\u001b[0m \u001b[31m5.2 MB/s\u001b[0m eta \u001b[36m0:00:00\u001b[0m00:01\u001b[0m00:01\u001b[0m\n",
      "\u001b[?25hCollecting numpy>=1.19\n",
      "  Downloading numpy-1.23.5-cp38-cp38-manylinux_2_17_x86_64.manylinux2014_x86_64.whl (17.1 MB)\n",
      "\u001b[2K     \u001b[90m━━━━━━━━━━━━━━━━━━━━━━━━━━━━━━━━━━━━━━━━\u001b[0m \u001b[32m17.1/17.1 MB\u001b[0m \u001b[31m3.0 MB/s\u001b[0m eta \u001b[36m0:00:00\u001b[0m:00:01\u001b[0m00:01\u001b[0m\n",
      "\u001b[?25hCollecting pillow>=6.2.0\n",
      "  Downloading Pillow-9.3.0-cp38-cp38-manylinux_2_28_x86_64.whl (3.3 MB)\n",
      "\u001b[2K     \u001b[90m━━━━━━━━━━━━━━━━━━━━━━━━━━━━━━━━━━━━━━━━\u001b[0m \u001b[32m3.3/3.3 MB\u001b[0m \u001b[31m6.0 MB/s\u001b[0m eta \u001b[36m0:00:00\u001b[0m:00:01\u001b[0m00:01\u001b[0m\n",
      "\u001b[?25hRequirement already satisfied: python-dateutil>=2.7 in /host_var/.venv/lib/python3.8/site-packages (from matplotlib) (2.8.2)\n",
      "Requirement already satisfied: six>=1.5 in /usr/local/lib/python3.8/site-packages (from python-dateutil>=2.7->matplotlib) (1.16.0)\n",
      "Installing collected packages: pillow, numpy, kiwisolver, fonttools, depthai, cycler, opencv-python-headless, contourpy, matplotlib\n",
      "Successfully installed contourpy-1.0.6 cycler-0.11.0 depthai-2.19.1.0 fonttools-4.38.0 kiwisolver-1.4.4 matplotlib-3.6.2 numpy-1.23.5 opencv-python-headless-4.6.0.66 pillow-9.3.0\n",
      "\u001b[33mWARNING: You are using pip version 22.0.4; however, version 22.3.1 is available.\n",
      "You should consider upgrading via the '/host_var/.venv/bin/python3 -m pip install --upgrade pip' command.\u001b[0m\u001b[33m\n",
      "\u001b[0m"
     ]
    }
   ],
   "source": [
    "!pip install depthai matplotlib opencv-python-headless"
   ]
  },
  {
   "cell_type": "code",
   "execution_count": 3,
   "id": "54a47d24-9aeb-43b7-be14-b6f4f0482ab7",
   "metadata": {},
   "outputs": [],
   "source": [
    "%matplotlib inline\n",
    "import matplotlib.pyplot as plt"
   ]
  },
  {
   "cell_type": "code",
   "execution_count": 4,
   "id": "8f48197b-7279-4516-9d87-35ed7a5c0891",
   "metadata": {},
   "outputs": [
    {
     "name": "stdout",
     "output_type": "stream",
     "text": [
      "[2022-11-25 22:53:14.419] [warning] USB protocol not available - If running in a container, make sure that the following is set: \"-v /dev/bus/usb:/dev/bus/usb --device-cgroup-rule='c 189:* rmw'\"\n"
     ]
    }
   ],
   "source": [
    "import cv2\n",
    "import depthai as dai\n",
    "\n",
    "def main() -> None:\n",
    "    \"\"\"\n",
    "    メイン関数\n",
    "    \"\"\"\n",
    "    # OAK-Dのパイプライン作成\n",
    "    pipeline = dai.Pipeline()\n",
    "\n",
    "    # ソースとアウトプットの設定\n",
    "    camRgb = pipeline.create(dai.node.ColorCamera)\n",
    "    xoutVideo = pipeline.create(dai.node.XLinkOut)\n",
    "\n",
    "    # ストリーミング名設定\n",
    "    xoutVideo.setStreamName(\"video\")\n",
    "\n",
    "    # RGBのカメラ、1080P、解像度1920x1080を指定\n",
    "    camRgb.setBoardSocket(dai.CameraBoardSocket.RGB)\n",
    "    camRgb.setResolution(dai.ColorCameraProperties.SensorResolution.THE_1080_P)\n",
    "    camRgb.setVideoSize(1920, 1080)\n",
    "\n",
    "    # キューのブロッキングなし、キューサイズ１を指定\n",
    "    xoutVideo.input.setBlocking(False)\n",
    "    xoutVideo.input.setQueueSize(1)\n",
    "\n",
    "    # ソースとアウトプットを接続\n",
    "    camRgb.video.link(xoutVideo.input)\n",
    "\n",
    "    # デバイスをパイプラインに接続\n",
    "    with dai.Device(pipeline) as device:\n",
    "        video = device.getOutputQueue(name=\"video\", maxSize=1, blocking=False)  # type: ignore\n",
    "        frame = video.get().getCvFrame()\n",
    "        plt.imshow(cv2.cvtColor(frame, cv2.COLOR_BGR2RGB))\n",
    "        plt.show()\n",
    "           "
   ]
  },
  {
   "cell_type": "code",
   "execution_count": 13,
   "id": "7345e564-90f0-4f10-9ce3-c24c3d44b70a",
   "metadata": {},
   "outputs": [],
   "source": [
    "# 背景色を赤色にする。\n",
    "m5.set_display_color(Colors.RED)"
   ]
  },
  {
   "cell_type": "code",
   "execution_count": 20,
   "id": "d586d152-cf3d-49d2-8b4e-df6496f3c725",
   "metadata": {},
   "outputs": [],
   "source": [
    "# 背景色を(R=50,G=155,B=10)にする。\n",
    "m5.set_display_color(Color(red=50,green=155,blue=10))"
   ]
  },
  {
   "cell_type": "markdown",
   "id": "676d8f18-0d9e-4cf3-908b-b18ba3f58e1b",
   "metadata": {
    "tags": []
   },
   "source": [
    "### 練習問題1\n",
    "背景色を赤、青、黄の順に変更しましょう。それぞれ _Colors.RED_ , _Colors.BLUE_, _Colors.YELLOW_ で色指定できます。"
   ]
  },
  {
   "cell_type": "code",
   "execution_count": 27,
   "id": "e991dc99-bb99-4ace-9fb8-f63a96ccac51",
   "metadata": {
    "tags": []
   },
   "outputs": [],
   "source": [
    "import time\n",
    "# 背景色を赤にする処理を書く\n",
    "\n",
    "time.sleep(1)\n",
    "# 背景色を青にする処理を書く\n",
    "\n",
    "time.sleep(1)\n",
    "# 背景色を黃にする処理を書く\n",
    "\n",
    "time.sleep(1)\n"
   ]
  },
  {
   "cell_type": "markdown",
   "id": "d84fcfed-7132-4761-b830-717ec0607cc4",
   "metadata": {
    "jp-MarkdownHeadingCollapsed": true,
    "tags": []
   },
   "source": [
    "#### 答え"
   ]
  },
  {
   "cell_type": "code",
   "execution_count": null,
   "id": "218154a1-ed7c-4cff-b4ce-cbea49be4751",
   "metadata": {
    "tags": []
   },
   "outputs": [],
   "source": [
    "import time\n",
    "# 背景色を赤にする処理を書く\n",
    "m5.set_display_color(Colors.RED,sync=True)\n",
    "time.sleep(1)\n",
    "# 背景色を青にする処理を書く\n",
    "m5.set_display_color(Colors.BLUE,sync=True)\n",
    "time.sleep(1)\n",
    "# 背景色を黃にする処理を書く\n",
    "m5.set_display_color(Colors.YELLOW,sync=True)\n",
    "time.sleep(1)"
   ]
  },
  {
   "cell_type": "code",
   "execution_count": null,
   "id": "66d7b885-b941-4451-a1f5-19f2495787fb",
   "metadata": {
    "tags": []
   },
   "outputs": [],
   "source": [
    "import time\n",
    "# 10回繰り返す処理\n",
    "for i in range(0,10):\n",
    "    # m5からセンサを取得する処理を書く\n",
    "    data = m5.get()\n",
    "    # 明るさが3500以上だった場合\"暗いです！\"と表示する処理を、if文を用いて書く\n",
    "    if(data[\"brightness\"]>=3500):\n",
    "        print(\"暗いです！\")\n",
    "    # 1秒待つ\n",
    "    time.sleep(1)\n",
    "print(\"終わります。\")"
   ]
  },
  {
   "cell_type": "markdown",
   "id": "452f7599-b27d-4f5a-bc69-12cfd8c33469",
   "metadata": {
    "tags": []
   },
   "source": [
    "## 最後に\n",
    "以上でM5との通信のチュートリアルは終わりです。  \n",
    "その他にもいくつかのAPIがあります。詳しくは[SDKリファレンス](https://akari-docs.vbcpp.net/source/sdk_reference/akari_client/joint.html#)を参照ください。  \n",
    "次はM5のディスプレイ制御について説明します。"
   ]
  },
  {
   "cell_type": "code",
   "execution_count": null,
   "id": "1f19eba7-b687-4aac-87a2-0404c50209be",
   "metadata": {},
   "outputs": [],
   "source": []
  }
 ],
 "metadata": {
  "kernelspec": {
   "display_name": "Python 3 (ipykernel)",
   "language": "python",
   "name": "python3"
  },
  "language_info": {
   "codemirror_mode": {
    "name": "ipython",
    "version": 3
   },
   "file_extension": ".py",
   "mimetype": "text/x-python",
   "name": "python",
   "nbconvert_exporter": "python",
   "pygments_lexer": "ipython3",
   "version": "3.8.15"
  }
 },
 "nbformat": 4,
 "nbformat_minor": 5
}
