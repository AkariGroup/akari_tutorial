{
 "cells": [
  {
   "cell_type": "markdown",
   "id": "a68559e1-e081-4346-80c4-e211b7ea1676",
   "metadata": {
    "tags": []
   },
   "source": [
    "# カメラの映像を取得してみよう\n",
    "\n",
    "ここでは、AKARIのヘッドのOAK-D Liteのカメラ映像の取得方法を説明します。"
   ]
  },
  {
   "cell_type": "markdown",
   "id": "17a813c4-4a45-411b-a885-7c83fda19b45",
   "metadata": {
    "tags": []
   },
   "source": [
    "## 1. ライブラリのインストール\n",
    "今回はipywidetsを使うので、まずは下記のセルを実行してipywidgetsをインストールします。"
   ]
  },
  {
   "cell_type": "code",
   "execution_count": null,
   "id": "05d41c1d-d368-484c-a8ae-b0bc656b82ce",
   "metadata": {},
   "outputs": [],
   "source": [
    "!pip install ipywidgets"
   ]
  },
  {
   "cell_type": "markdown",
   "id": "b7fd0305-5d6a-4313-9b81-22e060c6f761",
   "metadata": {
    "tags": []
   },
   "source": [
    "## 2. RGB画像の取得\n",
    "まずはOAK-D LiteのRGB画像の取得を試してみましょう。  \n"
   ]
  },
  {
   "cell_type": "markdown",
   "id": "e6d5a853-5676-42ab-9ba2-65db6ae7b5eb",
   "metadata": {
    "tags": []
   },
   "source": [
    "### 2.1 OAK-Dのセットアップ\n",
    "OAK-Dは使い方がやや特殊です。まず、下記のセルを実行してRGB画像を取得するためのOAK-Dのセットアップをします。\n"
   ]
  },
  {
   "cell_type": "code",
   "execution_count": null,
   "id": "8f48197b-7279-4516-9d87-35ed7a5c0891",
   "metadata": {},
   "outputs": [],
   "source": [
    "import cv2\n",
    "import depthai as dai\n",
    "%matplotlib inline\n",
    "import matplotlib.pyplot as plt\n",
    "import ipywidgets as widgets\n",
    "from IPython.display import display, Image\n",
    "import threading\n",
    "# OAK-Dのパイプライン作成\n",
    "pipeline = dai.Pipeline()\n",
    "\n",
    "# ソースとアウトプットの設定\n",
    "cam_rgb = pipeline.createColorCamera()\n",
    "\n",
    "# preview size640x480に指定\n",
    "cam_rgb.setPreviewSize(640, 480) \n",
    "cam_rgb.setInterleaved(False)\n",
    "\n",
    "# ストリーミング名設定\n",
    "xout_rgb = pipeline.createXLinkOut()\n",
    "xout_rgb.setStreamName(\"rgb\")\n",
    "cam_rgb.preview.link(xout_rgb.input)"
   ]
  },
  {
   "cell_type": "markdown",
   "id": "da98f17e",
   "metadata": {},
   "source": [
    "### 2.2 OAK-D画像の取得\n",
    "下記のセルを実行することで、画像を取得して表示することができます。"
   ]
  },
  {
   "cell_type": "code",
   "execution_count": null,
   "id": "694a906a",
   "metadata": {},
   "outputs": [],
   "source": [
    "# ディスプレイを設定\n",
    "display_handle=display(None, display_id=True)\n",
    "# デバイスをパイプラインに接続\n",
    "with dai.Device(pipeline) as device:\n",
    "    # フレームを取得して表示\n",
    "    video = device.getOutputQueue(name=\"rgb\", maxSize=4, blocking=False)\n",
    "    frame = video.get().getCvFrame()\n",
    "    _, jpg = cv2.imencode('.jpeg', frame)\n",
    "    img = Image(data=jpg.tobytes())\n",
    "    display_handle.update(img)"
   ]
  },
  {
   "cell_type": "markdown",
   "id": "daa462e4-0a78-4a71-8c94-eb4ca6dbbd95",
   "metadata": {},
   "source": [
    "### 2.3 RGB映像のストリーミング\n",
    "映像をストリームするには、2.1実行後下記のセルを実行します。  \n",
    "STOPボタンで停止します。  \n",
    "**AKARIのlocalhost環境でJupyter Labを実行している場合描画によりCPU負荷が高くなり、描画ウィンドウが明滅する場合があります。**   \n",
    "**その場合、別PCからweb consoleにアクセスする方法を試してみてください。**"
   ]
  },
  {
   "cell_type": "code",
   "execution_count": null,
   "id": "648ca1b3",
   "metadata": {
    "tags": []
   },
   "outputs": [],
   "source": [
    "# カメラ映像をストリーミングする関数\n",
    "def showVideo(button):\n",
    "    with dai.Device(pipeline) as device:\n",
    "        queueRgb = device.getOutputQueue(\"rgb\", maxSize=4, blocking=False)\n",
    "        frame = None\n",
    "        while True:\n",
    "            inRgb = queueRgb.tryGet()\n",
    "            if inRgb is not None:\n",
    "                frame = inRgb.getCvFrame()\n",
    "            if frame is not None:\n",
    "                rows, columns, _ = frame.shape\n",
    "                #画像サイズを1/2にリサイズする。\n",
    "                resizedFrame = cv2.resize(frame, (int(columns/2), int(rows/2)))\n",
    "                _, jpg = cv2.imencode('.jpeg', resizedFrame)\n",
    "                display_handle.update(Image(data=jpg.tobytes()))\n",
    "            if stopButton.value==True:\n",
    "                break\n",
    "\n",
    "# ボタンウィジェットを設定する\n",
    "stopButton = widgets.ToggleButton(\n",
    "    value=False,\n",
    "    description='Stop',\n",
    "    disabled=False,\n",
    "    button_style='danger',\n",
    "    tooltip='Stop the Video',\n",
    "    icon='square'\n",
    ")\n",
    "\n",
    "# ディスプレイのウィンドウを設定する\n",
    "display_handle=display(None, display_id=True)\n",
    "display(stopButton)\n",
    "# 映像ストリーミングを開始\n",
    "thread = threading.Thread(target=showVideo, args=(stopButton,))\n",
    "thread.start()"
   ]
  },
  {
   "cell_type": "markdown",
   "id": "cc9e045a",
   "metadata": {
    "tags": []
   },
   "source": [
    "## 3. ステレオdepth画像の取得\n",
    "次にOAK-D LiteのステレオRGBを用いたdepth画像の取得を試してみましょう。  "
   ]
  },
  {
   "cell_type": "markdown",
   "id": "f7457503-c338-45ee-85f7-43c1557f4892",
   "metadata": {
    "tags": []
   },
   "source": [
    "### 3.1 OAK-Dのセットアップ\n",
    "まず、下記のセルを実行してステレオ画像を取得するためのOAK-Dのセットアップをします。"
   ]
  },
  {
   "cell_type": "code",
   "execution_count": null,
   "id": "c09abe0b",
   "metadata": {},
   "outputs": [],
   "source": [
    "import cv2\n",
    "import numpy\n",
    "import depthai as dai\n",
    "%matplotlib inline\n",
    "import matplotlib.pyplot as plt\n",
    "import ipywidgets as widgets\n",
    "from IPython.display import display, Image\n",
    "import threading\n",
    "\n",
    "MAX_DEPTH = 1500.0  # unit: [mm]\n",
    "\n",
    "# OAK-Dのパイプライン作成\n",
    "pipeline = dai.Pipeline()\n",
    "\n",
    "# ソースとアウトプットの設定\n",
    "cam_left = pipeline.create(dai.node.MonoCamera)\n",
    "cam_left.setResolution(dai.MonoCameraProperties.SensorResolution.THE_480_P)\n",
    "cam_right = pipeline.create(dai.node.MonoCamera)\n",
    "cam_right.setResolution(dai.MonoCameraProperties.SensorResolution.THE_480_P)\n",
    "stereo = pipeline.create(dai.node.StereoDepth)\n",
    "xout_depth = pipeline.create(dai.node.XLinkOut)\n",
    "\n",
    "# ストリーミング名設定\n",
    "xout_depth.setStreamName(\"depth\")\n",
    "\n",
    "# ソースとアウトプットを接続\n",
    "cam_left.out.link(stereo.left)\n",
    "cam_right.out.link(stereo.right)\n",
    "stereo.depth.link(xout_depth.input)\n"
   ]
  },
  {
   "cell_type": "markdown",
   "id": "76c81e8c",
   "metadata": {},
   "source": [
    "### 3.2 Depth画像の取得\n",
    "下記のセルを実行することで、Depth画像を取得して表示することができます。"
   ]
  },
  {
   "cell_type": "code",
   "execution_count": null,
   "id": "4087b59a",
   "metadata": {},
   "outputs": [],
   "source": [
    "# ディスプレイを設定\n",
    "display_handle=display(None, display_id=True)\n",
    "# デバイスをパイプラインに接続\n",
    "with dai.Device(pipeline) as device:\n",
    "    video = device.getOutputQueue(name=\"depth\", maxSize=4, blocking=False)  # type: ignore\n",
    "    depth = video.get().getCvFrame()\n",
    "    # フレームをカラーマップに割り当て\n",
    "    depth[numpy.where(depth > MAX_DEPTH)] = 0\n",
    "    norm_depth = (depth * (255 / MAX_DEPTH)).astype(numpy.uint8)\n",
    "    colored_depth: numpy.ndarray = cv2.applyColorMap(norm_depth, cv2.COLORMAP_JET)\n",
    "    _, jpg = cv2.imencode('.jpeg', colored_depth)\n",
    "    img = Image(data=jpg.tobytes())\n",
    "    display_handle.update(img)"
   ]
  },
  {
   "cell_type": "markdown",
   "id": "fb8b9590-568c-409f-9a7d-066145fcdc92",
   "metadata": {
    "tags": []
   },
   "source": [
    "### 3.2 Depth映像のストリーミング\n",
    "映像をストリームするには、3.1実行後下記のセルを実行します。  \n",
    "STOPボタンで停止します。  \n",
    "**AKARIのlocalhost環境でJupyter Labを実行している場合描画によりCPU負荷が高くなり、描画ウィンドウが明滅する場合があります。**   \n",
    "**その場合、別PCからweb consoleにアクセスする方法を試してみてください。**"
   ]
  },
  {
   "cell_type": "code",
   "execution_count": null,
   "id": "bed98adc-8ba1-4201-9481-e8533770219c",
   "metadata": {
    "tags": []
   },
   "outputs": [],
   "source": [
    "# カメラ映像をストリーミングする関数\n",
    "def showVideo(button):\n",
    "    with dai.Device(pipeline) as device:\n",
    "        queueDepth = device.getOutputQueue(name=\"depth\", maxSize=4, blocking=False)\n",
    "        while True:\n",
    "            inDepth = queueDepth.tryGet()\n",
    "            depth = None\n",
    "            if inDepth is not None:\n",
    "                depth = inDepth.getCvFrame()\n",
    "            if depth is not None:\n",
    "                # フレームをカラーマップに割り当て\n",
    "                depth[numpy.where(depth > MAX_DEPTH)] = 0\n",
    "                norm_depth = (depth * (255 / MAX_DEPTH)).astype(numpy.uint8)\n",
    "                colored_depth: numpy.ndarray = cv2.applyColorMap(norm_depth, cv2.COLORMAP_JET)\n",
    "                rows, columns, _ = colored_depth.shape\n",
    "                colored_depth = cv2.resize(colored_depth, (int(columns/2), int(rows/2)))\n",
    "                _, jpg = cv2.imencode('.jpeg', colored_depth)\n",
    "                display_handle.update(Image(data=jpg.tobytes()))\n",
    "            if stopButton.value==True:\n",
    "                break\n",
    "\n",
    "# ボタンウィジェットを設定する\n",
    "stopButton = widgets.ToggleButton(\n",
    "    value=False,\n",
    "    description='Stop',\n",
    "    disabled=False,\n",
    "    button_style='danger',\n",
    "    tooltip='Stop the Video',\n",
    "    icon='square'\n",
    ")\n",
    "\n",
    "# ディスプレイのウィンドウを設定する\n",
    "display_handle=display(None, display_id=True)\n",
    "display(stopButton)\n",
    "# 映像ストリーミングを開始\n",
    "thread = threading.Thread(target=showVideo, args=(stopButton,))\n",
    "thread.start()"
   ]
  },
  {
   "cell_type": "markdown",
   "id": "452f7599-b27d-4f5a-bc69-12cfd8c33469",
   "metadata": {
    "tags": []
   },
   "source": [
    "## 最後に\n",
    "以上でカメラ画像取得のチュートリアルは終わりです。  \n",
    "OAK-Dの使い方はここでは説明していない内容が多数あります。詳しくは[depthaiのマニュアル](https://docs.luxonis.com/en/latest/)をご覧ください。  \n",
    "AKARIのチュートリアルは以上となります。"
   ]
  }
 ],
 "metadata": {
  "kernelspec": {
   "display_name": "Python 3 (ipykernel)",
   "language": "python",
   "name": "python3"
  },
  "language_info": {
   "codemirror_mode": {
    "name": "ipython",
    "version": 3
   },
   "file_extension": ".py",
   "mimetype": "text/x-python",
   "name": "python",
   "nbconvert_exporter": "python",
   "pygments_lexer": "ipython3",
   "version": "3.8.10"
  },
  "vscode": {
   "interpreter": {
    "hash": "916dbcbb3f70747c44a77c7bcd40155683ae19c65e1c03b4aa3499c5328201f1"
   }
  }
 },
 "nbformat": 4,
 "nbformat_minor": 5
}
