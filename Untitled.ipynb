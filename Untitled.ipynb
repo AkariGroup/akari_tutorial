{
 "cells": [
  {
   "cell_type": "code",
   "execution_count": null,
   "id": "9a4b54cc-cd9e-402d-a859-4dd1175100a3",
   "metadata": {},
   "outputs": [],
   "source": [
    "from akari_client import AkariClient\n"
   ]
  }
 ],
 "metadata": {
  "kernelspec": {
   "display_name": "Python 3 (ipykernel)",
   "language": "python",
   "name": "python3"
  },
  "language_info": {
   "codemirror_mode": {
    "name": "ipython",
    "version": 3
   },
   "file_extension": ".py",
   "mimetype": "text/x-python",
   "name": "python",
   "nbconvert_exporter": "python",
   "pygments_lexer": "ipython3",
   "version": "3.8.15"
  }
 },
 "nbformat": 4,
 "nbformat_minor": 5
}
