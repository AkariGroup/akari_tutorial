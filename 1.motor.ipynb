{
 "cells": [
  {
   "cell_type": "markdown",
   "id": "a68559e1-e081-4346-80c4-e211b7ea1676",
   "metadata": {
    "tags": []
   },
   "source": [
    "# M5と通信してみよう\n",
    "\n",
    "ここでは、AKARIでM5Stackと通信するサンプルを動かしながら、プログラムの書き方を説明します。"
   ]
  },
  {
   "cell_type": "markdown",
   "id": "b7fd0305-5d6a-4313-9b81-22e060c6f761",
   "metadata": {},
   "source": [
    "## 1. ライブラリのインポートとインスタンスの作成\n",
    "まずは、モータ制御に使うakari_clientライブラリのインポートをして、AkariClientのインスタンスを作成します。  \n",
    "この作業を行うことで、モータ制御のための関数を使うことができるようになります。  \n",
    "importするのは、AkariClientというライブラリです。これは、下記のコマンドでインポートできます。  \n",
    " ```python\n",
    " #AkariClientのインポート\n",
    " from akari_client import AkariClient\n",
    " ```  \n",
    "また、このライブラリを用いて、AkariClientのインスタンスと、関節制御用のインスタンスを取得する必要があります。  \n",
    " ```python\n",
    " #AkariClient、jointsのインスタンスを取得\n",
    " akari = AkariClient()  \n",
    " joints = akari.joints\n",
    " ```\n",
    "まだpythonに詳しくない方は、とりあえず **モータを動かしたい場合はこのコマンドを実行する必要がある** と覚えておけばOKです。\n",
    "次のウインドウを実行して、ライブラリのインポートとインスタンスの作成を行っておきましょう。\n",
    "また、ここではあらかじめサーボの速度を5rad/sに変更しておきます。これについては、後ほど使い方を説明します。"
   ]
  },
  {
   "cell_type": "code",
   "execution_count": null,
   "id": "8f48197b-7279-4516-9d87-35ed7a5c0891",
   "metadata": {},
   "outputs": [],
   "source": [
    "# モータ制御の際はakari_clientのライブラリをインポートする\n",
    "from akari_client import AkariClient\n",
    "\n",
    "# AkariClientのインスタンスを作成する。\n",
    "akari = AkariClient()\n",
    "# 関節制御用のインスタンスを取得する。\n",
    "joints = akari.joints\n",
    "\n",
    "# サーボの速度を5rad/sに変更(後ほど説明)\n",
    "joints.set_joint_velocities(pan=5,tilt=5)"
   ]
  },
  {
   "cell_type": "markdown",
   "id": "5c8f8866-6e11-4287-8ff8-2aa9dee1d2a1",
   "metadata": {
    "tags": []
   },
   "source": [
    "## 2. サーボのON、OFFをしてみよう\n",
    "まずはヘッドのサーボモータのON、OFFをしてみましょう。\n",
    "サーボのON,OFFには、_set_servo_enabled()_ を使います。\n",
    "```python\n",
    "akari_client.joint_manager.set_servo_enabled(  \n",
    "    self,\n",
    "    *,\n",
    "    pan: Optional[bool] = None,\n",
    "    tilt: Optional[bool] = None,\n",
    "    **kwargs: bool,\n",
    ") -> None:\n",
    "\"\"\"サーボの有効無効状態を設定する。\n",
    "\n",
    "Args:\n",
    "    pan: pan軸のサーボ有効無効の設定。``True`` であればサーボを有効にする。\n",
    "    tilt: tilt軸のサーボ有効無効の設定。``True`` であればサーボを有効にする。\n",
    "\n",
    "\"\"\"\n",
    "```\n",
    "\n",
    "下記のセルを実行すると、panのサーボがOFF、tilt(上下方向)のサーボがONになります。  \n",
    "外から手でAKARIのヘッドを押してみると、左右には手で動かせ、上下はロックされているのがわかると思います。"
   ]
  },
  {
   "cell_type": "code",
   "execution_count": null,
   "id": "7345e564-90f0-4f10-9ce3-c24c3d44b70a",
   "metadata": {},
   "outputs": [],
   "source": [
    "#panのサーボをOFF、tiltのサーボをONにする。\n",
    "joints.set_servo_enabled(pan=False, tilt=True)"
   ]
  },
  {
   "cell_type": "markdown",
   "id": "676d8f18-0d9e-4cf3-908b-b18ba3f58e1b",
   "metadata": {
    "tags": []
   },
   "source": [
    "### 練習問題1\n",
    "上記の状態から、panのサーボだけをONにしてみましょう。  \n",
    "Tiltは現在の状態をそのまま維持させましょう。"
   ]
  },
  {
   "cell_type": "code",
   "execution_count": null,
   "id": "e991dc99-bb99-4ace-9fb8-f63a96ccac51",
   "metadata": {},
   "outputs": [],
   "source": [
    "#ここに答えを記述\n"
   ]
  },
  {
   "cell_type": "markdown",
   "id": "d84fcfed-7132-4761-b830-717ec0607cc4",
   "metadata": {
    "tags": []
   },
   "source": [
    "#### 答え"
   ]
  },
  {
   "cell_type": "markdown",
   "id": "452f7599-b27d-4f5a-bc69-12cfd8c33469",
   "metadata": {
    "tags": []
   },
   "source": [
    "## 最後に\n",
    "以上でM5との通信のチュートリアルは終わりです。  \n",
    "その他にもいくつかのAPIがあります。詳しくは[SDKリファレンス](https://akari-docs.vbcpp.net/source/sdk_reference/akari_client/joint.html#)を参照ください。  \n",
    "次はM5でのディスプレイ制御について説明します。"
   ]
  },
  {
   "cell_type": "code",
   "execution_count": null,
   "id": "8d8f0364-3a1c-4bc0-b6af-efc7971be393",
   "metadata": {},
   "outputs": [],
   "source": []
  }
 ],
 "metadata": {
  "kernelspec": {
   "display_name": "Python 3 (ipykernel)",
   "language": "python",
   "name": "python3"
  },
  "language_info": {
   "codemirror_mode": {
    "name": "ipython",
    "version": 3
   },
   "file_extension": ".py",
   "mimetype": "text/x-python",
   "name": "python",
   "nbconvert_exporter": "python",
   "pygments_lexer": "ipython3",
   "version": "3.8.15"
  }
 },
 "nbformat": 4,
 "nbformat_minor": 5
}
